{
  "nbformat": 4,
  "nbformat_minor": 0,
  "metadata": {
    "colab": {
      "provenance": []
    },
    "kernelspec": {
      "name": "python3",
      "display_name": "Python 3"
    },
    "language_info": {
      "name": "python"
    }
  },
  "cells": [
    {
      "cell_type": "markdown",
      "source": [
        "#Timless Album : A Twitter Sentiment and Engagement Analysis Project."
      ],
      "metadata": {
        "id": "vdqK2MY6yXtp"
      }
    },
    {
      "cell_type": "markdown",
      "source": [
        "This project aims to uncover insights behind Davido's album - Timeless which was released on 30th of March. \n",
        "\n",
        "The data collection was from day of release to the 10th of April, using the hashtags 'timeless' and 'timelessalbum'. "
      ],
      "metadata": {
        "id": "SsUQK1G9zuti"
      }
    },
    {
      "cell_type": "markdown",
      "source": [
        "# Project Overview \n",
        "This project consists of three main parts;\n",
        "- Data Collection/ Gathering: Libraries used are snscrape (for scraping tweets from Twitter) and pandas (to read-in the data).\n",
        "\n",
        "- Data Cleaning and Preprocessing: Libraries used are nltk (Natural Processing Language Toolkit), textblob (for sentiment analysis), pandas (for data cleaning and analysis), emot (for emoji identification). \n",
        "\n",
        "- Data Analysis and Visualization: Libraries used are matplotlib and wordcloud (for data visualization). \n"
      ],
      "metadata": {
        "id": "0g0Elh0b2OLG"
      }
    },
    {
      "cell_type": "code",
      "source": [
        "pip install emot"
      ],
      "metadata": {
        "colab": {
          "base_uri": "https://localhost:8080/"
        },
        "id": "UmgP45kyhI-r",
        "outputId": "6441f3ff-5e74-485c-de1d-684fb755dd70"
      },
      "execution_count": null,
      "outputs": [
        {
          "output_type": "stream",
          "name": "stdout",
          "text": [
            "Looking in indexes: https://pypi.org/simple, https://us-python.pkg.dev/colab-wheels/public/simple/\n",
            "Collecting emot\n",
            "  Downloading emot-3.1-py3-none-any.whl (61 kB)\n",
            "\u001b[2K     \u001b[90m━━━━━━━━━━━━━━━━━━━━━━━━━━━━━━━━━━━━━━━━\u001b[0m \u001b[32m61.5/61.5 kB\u001b[0m \u001b[31m2.4 MB/s\u001b[0m eta \u001b[36m0:00:00\u001b[0m\n",
            "\u001b[?25hInstalling collected packages: emot\n",
            "Successfully installed emot-3.1\n"
          ]
        }
      ]
    },
    {
      "cell_type": "code",
      "source": [
        "# import important libraries\n",
        "\n",
        "import warnings\n",
        "warnings.filterwarnings('ignore')\n",
        "\n",
        "import pandas as pd\n",
        "import numpy as np\n",
        "import matplotlib.pyplot as plt\n",
        "from tqdm.notebook import tqdm\n",
        "from collections import Counter\n",
        "\n",
        "#import snscrape.modules.twitter as sntwitter\n",
        "import nltk\n",
        "from nltk.corpus import stopwords\n",
        "nltk.download('stopwords')\n",
        "nltk.download('wordnet')\n",
        "\n",
        "\n",
        "from nltk.tokenize import word_tokenize\n",
        "from nltk.stem import WordNetLemmatizer\n",
        "nltk.download('punkt')"
      ],
      "metadata": {
        "colab": {
          "base_uri": "https://localhost:8080/"
        },
        "id": "SJKzE28Jg7Cl",
        "outputId": "9f36cc92-26c1-422b-ff14-b1e2438cdfd8"
      },
      "execution_count": null,
      "outputs": [
        {
          "output_type": "stream",
          "name": "stderr",
          "text": [
            "[nltk_data] Downloading package stopwords to /root/nltk_data...\n",
            "[nltk_data]   Unzipping corpora/stopwords.zip.\n",
            "[nltk_data] Downloading package wordnet to /root/nltk_data...\n",
            "[nltk_data] Downloading package punkt to /root/nltk_data...\n",
            "[nltk_data]   Unzipping tokenizers/punkt.zip.\n"
          ]
        },
        {
          "output_type": "execute_result",
          "data": {
            "text/plain": [
              "True"
            ]
          },
          "metadata": {},
          "execution_count": 3
        }
      ]
    },
    {
      "cell_type": "code",
      "source": [
        "import re\n",
        "from emot.emo_unicode import UNICODE_EMOJI\n",
        "from wordcloud import WordCloud, STOPWORDS\n",
        "from wordcloud import ImageColorGenerator\n",
        "from PIL import Image\n",
        "\n",
        "import textblob\n",
        "from textblob import TextBlob\n",
        "\n",
        "import random\n",
        "import string\n",
        "%matplotlib inline"
      ],
      "metadata": {
        "id": "tFefTAqHg_tS"
      },
      "execution_count": null,
      "outputs": []
    },
    {
      "cell_type": "markdown",
      "source": [
        "# Data Collection \n",
        "In this section, I will be using snscrape to gather tweets containing 'timeless' and 'timelessalbum' independently and will merge them as a single data frame. \n",
        "\n",
        "*NOTE*❗ : I previously scraped the data in another notebook before I started having 'Error 404' in my snscrape code. Hence,to make things look nice, I decided to start in a new notebook from the merged \n",
        "dataset. \n",
        "\n",
        "Check out the notebook and how the data was scraped [here](https://github.com/Preshynodis/Davido-Timeless-Twitter-Sentiment-Analysis/blob/main/TwitterScraping.ipynb) .\n",
        "\n",
        "*WHAT'S DIFFERENT*❓ : I performed natural language processing (data preprocessing) on the 'Tweet' column, which was stored in a new column 'cleaned_text'. This column was used for sentiment analysis and retriving polarity of tweets. Also, unsuccesfully didn't extract mentioned **Tracks** from tweet column which was already stored as 'Tracks' in a new column (hence empty). The merged dataset has these 4 extra columns, we can now continue the analysis here. \n"
      ],
      "metadata": {
        "id": "TuXlXqgw4Njy"
      }
    },
    {
      "cell_type": "code",
      "execution_count": null,
      "metadata": {
        "id": "k22klaWEfjAj"
      },
      "outputs": [],
      "source": [
        "# reading in the merged dataset\n",
        "\n",
        "df = pd.read_csv(\"Timelesstwitter.csv\")"
      ]
    },
    {
      "cell_type": "markdown",
      "source": [
        "#### Dataset Exploration"
      ],
      "metadata": {
        "id": "TfqRdrmRNVmh"
      }
    },
    {
      "cell_type": "code",
      "source": [
        "df.head(3)"
      ],
      "metadata": {
        "colab": {
          "base_uri": "https://localhost:8080/",
          "height": 433
        },
        "id": "Eo2qTg__hR0y",
        "outputId": "ca431a0f-a9ef-49b1-9346-7152809e00be"
      },
      "execution_count": null,
      "outputs": [
        {
          "output_type": "execute_result",
          "data": {
            "text/plain": [
              "   Unnamed: 0                       Date  \\\n",
              "0           0  2023-04-09 23:09:29+00:00   \n",
              "1           1  2023-04-09 22:47:58+00:00   \n",
              "2           2  2023-04-09 22:42:26+00:00   \n",
              "\n",
              "                                            TweetURL             User  \\\n",
              "0  https://twitter.com/TheKingWisdom11/status/164...  TheKingWisdom11   \n",
              "1  https://twitter.com/B0LUWATIFE_DMW/status/1645...   B0LUWATIFE_DMW   \n",
              "2  https://twitter.com/Gidiflyguys/status/1645195...      Gidiflyguys   \n",
              "\n",
              "   Verified               Source       Location Language  \\\n",
              "0     False   Twitter for iPhone            NaN       en   \n",
              "1     False  Twitter for Android            DMW      qme   \n",
              "2     False  Twitter for Android  Lekki Phase 1       en   \n",
              "\n",
              "                                               Tweet  Likes_Count  \\\n",
              "0  @Naija_PR True love should not be searched, ra...            7   \n",
              "1                               @davido #TIMELESS 😍😌            0   \n",
              "2  Davido narrates how he got to collaborate with...            5   \n",
              "\n",
              "   Retweet_Count  Quote_Count  Reply_Count  Track  \\\n",
              "0              0            0            2    NaN   \n",
              "1              0            0            0    NaN   \n",
              "2              1            0            0    NaN   \n",
              "\n",
              "                                        cleaned_text  Polarity Sentiment  \n",
              "0  pr true love searched rather ask “ true love s...  0.440000  Positive  \n",
              "1                                                 😍😌  0.000000   Neutral  \n",
              "2    davido narrates got collaborate asake new album  0.136364  Positive  "
            ],
            "text/html": [
              "\n",
              "  <div id=\"df-ac3b7d5e-5b1c-4a0e-bb36-ff0d94c23757\">\n",
              "    <div class=\"colab-df-container\">\n",
              "      <div>\n",
              "<style scoped>\n",
              "    .dataframe tbody tr th:only-of-type {\n",
              "        vertical-align: middle;\n",
              "    }\n",
              "\n",
              "    .dataframe tbody tr th {\n",
              "        vertical-align: top;\n",
              "    }\n",
              "\n",
              "    .dataframe thead th {\n",
              "        text-align: right;\n",
              "    }\n",
              "</style>\n",
              "<table border=\"1\" class=\"dataframe\">\n",
              "  <thead>\n",
              "    <tr style=\"text-align: right;\">\n",
              "      <th></th>\n",
              "      <th>Unnamed: 0</th>\n",
              "      <th>Date</th>\n",
              "      <th>TweetURL</th>\n",
              "      <th>User</th>\n",
              "      <th>Verified</th>\n",
              "      <th>Source</th>\n",
              "      <th>Location</th>\n",
              "      <th>Language</th>\n",
              "      <th>Tweet</th>\n",
              "      <th>Likes_Count</th>\n",
              "      <th>Retweet_Count</th>\n",
              "      <th>Quote_Count</th>\n",
              "      <th>Reply_Count</th>\n",
              "      <th>Track</th>\n",
              "      <th>cleaned_text</th>\n",
              "      <th>Polarity</th>\n",
              "      <th>Sentiment</th>\n",
              "    </tr>\n",
              "  </thead>\n",
              "  <tbody>\n",
              "    <tr>\n",
              "      <th>0</th>\n",
              "      <td>0</td>\n",
              "      <td>2023-04-09 23:09:29+00:00</td>\n",
              "      <td>https://twitter.com/TheKingWisdom11/status/164...</td>\n",
              "      <td>TheKingWisdom11</td>\n",
              "      <td>False</td>\n",
              "      <td>Twitter for iPhone</td>\n",
              "      <td>NaN</td>\n",
              "      <td>en</td>\n",
              "      <td>@Naija_PR True love should not be searched, ra...</td>\n",
              "      <td>7</td>\n",
              "      <td>0</td>\n",
              "      <td>0</td>\n",
              "      <td>2</td>\n",
              "      <td>NaN</td>\n",
              "      <td>pr true love searched rather ask “ true love s...</td>\n",
              "      <td>0.440000</td>\n",
              "      <td>Positive</td>\n",
              "    </tr>\n",
              "    <tr>\n",
              "      <th>1</th>\n",
              "      <td>1</td>\n",
              "      <td>2023-04-09 22:47:58+00:00</td>\n",
              "      <td>https://twitter.com/B0LUWATIFE_DMW/status/1645...</td>\n",
              "      <td>B0LUWATIFE_DMW</td>\n",
              "      <td>False</td>\n",
              "      <td>Twitter for Android</td>\n",
              "      <td>DMW</td>\n",
              "      <td>qme</td>\n",
              "      <td>@davido #TIMELESS 😍😌</td>\n",
              "      <td>0</td>\n",
              "      <td>0</td>\n",
              "      <td>0</td>\n",
              "      <td>0</td>\n",
              "      <td>NaN</td>\n",
              "      <td>😍😌</td>\n",
              "      <td>0.000000</td>\n",
              "      <td>Neutral</td>\n",
              "    </tr>\n",
              "    <tr>\n",
              "      <th>2</th>\n",
              "      <td>2</td>\n",
              "      <td>2023-04-09 22:42:26+00:00</td>\n",
              "      <td>https://twitter.com/Gidiflyguys/status/1645195...</td>\n",
              "      <td>Gidiflyguys</td>\n",
              "      <td>False</td>\n",
              "      <td>Twitter for Android</td>\n",
              "      <td>Lekki Phase 1</td>\n",
              "      <td>en</td>\n",
              "      <td>Davido narrates how he got to collaborate with...</td>\n",
              "      <td>5</td>\n",
              "      <td>1</td>\n",
              "      <td>0</td>\n",
              "      <td>0</td>\n",
              "      <td>NaN</td>\n",
              "      <td>davido narrates got collaborate asake new album</td>\n",
              "      <td>0.136364</td>\n",
              "      <td>Positive</td>\n",
              "    </tr>\n",
              "  </tbody>\n",
              "</table>\n",
              "</div>\n",
              "      <button class=\"colab-df-convert\" onclick=\"convertToInteractive('df-ac3b7d5e-5b1c-4a0e-bb36-ff0d94c23757')\"\n",
              "              title=\"Convert this dataframe to an interactive table.\"\n",
              "              style=\"display:none;\">\n",
              "        \n",
              "  <svg xmlns=\"http://www.w3.org/2000/svg\" height=\"24px\"viewBox=\"0 0 24 24\"\n",
              "       width=\"24px\">\n",
              "    <path d=\"M0 0h24v24H0V0z\" fill=\"none\"/>\n",
              "    <path d=\"M18.56 5.44l.94 2.06.94-2.06 2.06-.94-2.06-.94-.94-2.06-.94 2.06-2.06.94zm-11 1L8.5 8.5l.94-2.06 2.06-.94-2.06-.94L8.5 2.5l-.94 2.06-2.06.94zm10 10l.94 2.06.94-2.06 2.06-.94-2.06-.94-.94-2.06-.94 2.06-2.06.94z\"/><path d=\"M17.41 7.96l-1.37-1.37c-.4-.4-.92-.59-1.43-.59-.52 0-1.04.2-1.43.59L10.3 9.45l-7.72 7.72c-.78.78-.78 2.05 0 2.83L4 21.41c.39.39.9.59 1.41.59.51 0 1.02-.2 1.41-.59l7.78-7.78 2.81-2.81c.8-.78.8-2.07 0-2.86zM5.41 20L4 18.59l7.72-7.72 1.47 1.35L5.41 20z\"/>\n",
              "  </svg>\n",
              "      </button>\n",
              "      \n",
              "  <style>\n",
              "    .colab-df-container {\n",
              "      display:flex;\n",
              "      flex-wrap:wrap;\n",
              "      gap: 12px;\n",
              "    }\n",
              "\n",
              "    .colab-df-convert {\n",
              "      background-color: #E8F0FE;\n",
              "      border: none;\n",
              "      border-radius: 50%;\n",
              "      cursor: pointer;\n",
              "      display: none;\n",
              "      fill: #1967D2;\n",
              "      height: 32px;\n",
              "      padding: 0 0 0 0;\n",
              "      width: 32px;\n",
              "    }\n",
              "\n",
              "    .colab-df-convert:hover {\n",
              "      background-color: #E2EBFA;\n",
              "      box-shadow: 0px 1px 2px rgba(60, 64, 67, 0.3), 0px 1px 3px 1px rgba(60, 64, 67, 0.15);\n",
              "      fill: #174EA6;\n",
              "    }\n",
              "\n",
              "    [theme=dark] .colab-df-convert {\n",
              "      background-color: #3B4455;\n",
              "      fill: #D2E3FC;\n",
              "    }\n",
              "\n",
              "    [theme=dark] .colab-df-convert:hover {\n",
              "      background-color: #434B5C;\n",
              "      box-shadow: 0px 1px 3px 1px rgba(0, 0, 0, 0.15);\n",
              "      filter: drop-shadow(0px 1px 2px rgba(0, 0, 0, 0.3));\n",
              "      fill: #FFFFFF;\n",
              "    }\n",
              "  </style>\n",
              "\n",
              "      <script>\n",
              "        const buttonEl =\n",
              "          document.querySelector('#df-ac3b7d5e-5b1c-4a0e-bb36-ff0d94c23757 button.colab-df-convert');\n",
              "        buttonEl.style.display =\n",
              "          google.colab.kernel.accessAllowed ? 'block' : 'none';\n",
              "\n",
              "        async function convertToInteractive(key) {\n",
              "          const element = document.querySelector('#df-ac3b7d5e-5b1c-4a0e-bb36-ff0d94c23757');\n",
              "          const dataTable =\n",
              "            await google.colab.kernel.invokeFunction('convertToInteractive',\n",
              "                                                     [key], {});\n",
              "          if (!dataTable) return;\n",
              "\n",
              "          const docLinkHtml = 'Like what you see? Visit the ' +\n",
              "            '<a target=\"_blank\" href=https://colab.research.google.com/notebooks/data_table.ipynb>data table notebook</a>'\n",
              "            + ' to learn more about interactive tables.';\n",
              "          element.innerHTML = '';\n",
              "          dataTable['output_type'] = 'display_data';\n",
              "          await google.colab.output.renderOutput(dataTable, element);\n",
              "          const docLink = document.createElement('div');\n",
              "          docLink.innerHTML = docLinkHtml;\n",
              "          element.appendChild(docLink);\n",
              "        }\n",
              "      </script>\n",
              "    </div>\n",
              "  </div>\n",
              "  "
            ]
          },
          "metadata": {},
          "execution_count": 6
        }
      ]
    },
    {
      "cell_type": "code",
      "source": [
        "df.info()"
      ],
      "metadata": {
        "colab": {
          "base_uri": "https://localhost:8080/"
        },
        "id": "uG7LTXs4zmXB",
        "outputId": "6036a0ca-f982-4553-86b9-097733ea8e31"
      },
      "execution_count": null,
      "outputs": [
        {
          "output_type": "stream",
          "name": "stdout",
          "text": [
            "<class 'pandas.core.frame.DataFrame'>\n",
            "RangeIndex: 90027 entries, 0 to 90026\n",
            "Data columns (total 17 columns):\n",
            " #   Column         Non-Null Count  Dtype  \n",
            "---  ------         --------------  -----  \n",
            " 0   Unnamed: 0     90027 non-null  int64  \n",
            " 1   Date           90027 non-null  object \n",
            " 2   TweetURL       90027 non-null  object \n",
            " 3   User           90027 non-null  object \n",
            " 4   Verified       90027 non-null  bool   \n",
            " 5   Source         90027 non-null  object \n",
            " 6   Location       63864 non-null  object \n",
            " 7   Language       90027 non-null  object \n",
            " 8   Tweet          90027 non-null  object \n",
            " 9   Likes_Count    90027 non-null  int64  \n",
            " 10  Retweet_Count  90027 non-null  int64  \n",
            " 11  Quote_Count    90027 non-null  int64  \n",
            " 12  Reply_Count    90027 non-null  int64  \n",
            " 13  Track          0 non-null      float64\n",
            " 14  cleaned_text   81250 non-null  object \n",
            " 15  Polarity       90027 non-null  float64\n",
            " 16  Sentiment      90027 non-null  object \n",
            "dtypes: bool(1), float64(2), int64(5), object(9)\n",
            "memory usage: 11.1+ MB\n"
          ]
        }
      ]
    },
    {
      "cell_type": "markdown",
      "source": [
        "From the code above, we can have an overview of the datatypes of our different columns and also check for issues with the dataset to be addressed in data cleaning. "
      ],
      "metadata": {
        "id": "lMk1YR8U9BAx"
      }
    },
    {
      "cell_type": "code",
      "source": [
        "# To check the shape of our dataset\n",
        "print('\\n'f'The dataset comprises of: \\n * {df.shape[0]} tweets and \\n * {df.shape[1]} columns''\\n')"
      ],
      "metadata": {
        "colab": {
          "base_uri": "https://localhost:8080/"
        },
        "id": "x9JxcT9PM_3A",
        "outputId": "4ab73b18-b4be-4488-dbb4-245da2b1f372"
      },
      "execution_count": null,
      "outputs": [
        {
          "output_type": "stream",
          "name": "stdout",
          "text": [
            "\n",
            "The dataset comprises of: \n",
            " * 90027 tweets and \n",
            " * 17 columns\n",
            "\n"
          ]
        }
      ]
    },
    {
      "cell_type": "code",
      "source": [
        "# checking for popularity of the tweets\n",
        "total_likes = df.Likes_Count.sum()\n",
        "total_retweet = df.Retweet_Count.sum()\n",
        "\n",
        "print(\"Total Number of Likes is \", total_likes)\n",
        "print(\"Total Number of Retweets is\", total_retweet)"
      ],
      "metadata": {
        "colab": {
          "base_uri": "https://localhost:8080/"
        },
        "id": "iol1rhE0NTFD",
        "outputId": "d2e5b558-35bb-4ec6-912a-f882d0140f18"
      },
      "execution_count": null,
      "outputs": [
        {
          "output_type": "stream",
          "name": "stdout",
          "text": [
            "Total Number of Likes is  2565687\n",
            "Total Number of Retweets is 505570\n"
          ]
        }
      ]
    },
    {
      "cell_type": "code",
      "source": [
        "# checking for null values \n",
        "df.isna().sum()"
      ],
      "metadata": {
        "colab": {
          "base_uri": "https://localhost:8080/"
        },
        "id": "AgMbxXUiN8kY",
        "outputId": "260a4e7b-a5fc-4d55-a7f4-6d5c876e17eb"
      },
      "execution_count": null,
      "outputs": [
        {
          "output_type": "execute_result",
          "data": {
            "text/plain": [
              "Unnamed: 0           0\n",
              "Date                 0\n",
              "TweetURL             0\n",
              "User                 0\n",
              "Verified             0\n",
              "Source               0\n",
              "Location         26163\n",
              "Language             0\n",
              "Tweet                0\n",
              "Likes_Count          0\n",
              "Retweet_Count        0\n",
              "Quote_Count          0\n",
              "Reply_Count          0\n",
              "Track            90027\n",
              "cleaned_text      8777\n",
              "Polarity             0\n",
              "Sentiment            0\n",
              "dtype: int64"
            ]
          },
          "metadata": {},
          "execution_count": 10
        }
      ]
    },
    {
      "cell_type": "code",
      "source": [
        "#summary statistics of the dataset\n",
        "df.describe()"
      ],
      "metadata": {
        "colab": {
          "base_uri": "https://localhost:8080/",
          "height": 300
        },
        "id": "9L8kE4zPOKZQ",
        "outputId": "b1a308b0-4915-4ac4-b9fb-54d7d52a3ad8"
      },
      "execution_count": null,
      "outputs": [
        {
          "output_type": "execute_result",
          "data": {
            "text/plain": [
              "         Unnamed: 0   Likes_Count  Retweet_Count   Quote_Count   Reply_Count  \\\n",
              "count  90027.000000  90027.000000   90027.000000  90027.000000  90027.000000   \n",
              "mean   46277.491119     28.499084       5.615760      0.446755      0.991125   \n",
              "std    27585.052098    587.292423     154.547706     32.485689     23.535824   \n",
              "min        0.000000      0.000000       0.000000      0.000000      0.000000   \n",
              "25%    22506.500000      0.000000       0.000000      0.000000      0.000000   \n",
              "50%    45013.000000      1.000000       0.000000      0.000000      0.000000   \n",
              "75%    70198.500000      3.000000       0.000000      0.000000      0.000000   \n",
              "max    95588.000000  70236.000000   20334.000000   5395.000000   3918.000000   \n",
              "\n",
              "       Track      Polarity  \n",
              "count    0.0  90027.000000  \n",
              "mean     NaN      0.109523  \n",
              "std      NaN      0.253558  \n",
              "min      NaN     -1.000000  \n",
              "25%      NaN      0.000000  \n",
              "50%      NaN      0.000000  \n",
              "75%      NaN      0.200000  \n",
              "max      NaN      1.000000  "
            ],
            "text/html": [
              "\n",
              "  <div id=\"df-f557b6d8-8813-4d32-b29e-861de454aab1\">\n",
              "    <div class=\"colab-df-container\">\n",
              "      <div>\n",
              "<style scoped>\n",
              "    .dataframe tbody tr th:only-of-type {\n",
              "        vertical-align: middle;\n",
              "    }\n",
              "\n",
              "    .dataframe tbody tr th {\n",
              "        vertical-align: top;\n",
              "    }\n",
              "\n",
              "    .dataframe thead th {\n",
              "        text-align: right;\n",
              "    }\n",
              "</style>\n",
              "<table border=\"1\" class=\"dataframe\">\n",
              "  <thead>\n",
              "    <tr style=\"text-align: right;\">\n",
              "      <th></th>\n",
              "      <th>Unnamed: 0</th>\n",
              "      <th>Likes_Count</th>\n",
              "      <th>Retweet_Count</th>\n",
              "      <th>Quote_Count</th>\n",
              "      <th>Reply_Count</th>\n",
              "      <th>Track</th>\n",
              "      <th>Polarity</th>\n",
              "    </tr>\n",
              "  </thead>\n",
              "  <tbody>\n",
              "    <tr>\n",
              "      <th>count</th>\n",
              "      <td>90027.000000</td>\n",
              "      <td>90027.000000</td>\n",
              "      <td>90027.000000</td>\n",
              "      <td>90027.000000</td>\n",
              "      <td>90027.000000</td>\n",
              "      <td>0.0</td>\n",
              "      <td>90027.000000</td>\n",
              "    </tr>\n",
              "    <tr>\n",
              "      <th>mean</th>\n",
              "      <td>46277.491119</td>\n",
              "      <td>28.499084</td>\n",
              "      <td>5.615760</td>\n",
              "      <td>0.446755</td>\n",
              "      <td>0.991125</td>\n",
              "      <td>NaN</td>\n",
              "      <td>0.109523</td>\n",
              "    </tr>\n",
              "    <tr>\n",
              "      <th>std</th>\n",
              "      <td>27585.052098</td>\n",
              "      <td>587.292423</td>\n",
              "      <td>154.547706</td>\n",
              "      <td>32.485689</td>\n",
              "      <td>23.535824</td>\n",
              "      <td>NaN</td>\n",
              "      <td>0.253558</td>\n",
              "    </tr>\n",
              "    <tr>\n",
              "      <th>min</th>\n",
              "      <td>0.000000</td>\n",
              "      <td>0.000000</td>\n",
              "      <td>0.000000</td>\n",
              "      <td>0.000000</td>\n",
              "      <td>0.000000</td>\n",
              "      <td>NaN</td>\n",
              "      <td>-1.000000</td>\n",
              "    </tr>\n",
              "    <tr>\n",
              "      <th>25%</th>\n",
              "      <td>22506.500000</td>\n",
              "      <td>0.000000</td>\n",
              "      <td>0.000000</td>\n",
              "      <td>0.000000</td>\n",
              "      <td>0.000000</td>\n",
              "      <td>NaN</td>\n",
              "      <td>0.000000</td>\n",
              "    </tr>\n",
              "    <tr>\n",
              "      <th>50%</th>\n",
              "      <td>45013.000000</td>\n",
              "      <td>1.000000</td>\n",
              "      <td>0.000000</td>\n",
              "      <td>0.000000</td>\n",
              "      <td>0.000000</td>\n",
              "      <td>NaN</td>\n",
              "      <td>0.000000</td>\n",
              "    </tr>\n",
              "    <tr>\n",
              "      <th>75%</th>\n",
              "      <td>70198.500000</td>\n",
              "      <td>3.000000</td>\n",
              "      <td>0.000000</td>\n",
              "      <td>0.000000</td>\n",
              "      <td>0.000000</td>\n",
              "      <td>NaN</td>\n",
              "      <td>0.200000</td>\n",
              "    </tr>\n",
              "    <tr>\n",
              "      <th>max</th>\n",
              "      <td>95588.000000</td>\n",
              "      <td>70236.000000</td>\n",
              "      <td>20334.000000</td>\n",
              "      <td>5395.000000</td>\n",
              "      <td>3918.000000</td>\n",
              "      <td>NaN</td>\n",
              "      <td>1.000000</td>\n",
              "    </tr>\n",
              "  </tbody>\n",
              "</table>\n",
              "</div>\n",
              "      <button class=\"colab-df-convert\" onclick=\"convertToInteractive('df-f557b6d8-8813-4d32-b29e-861de454aab1')\"\n",
              "              title=\"Convert this dataframe to an interactive table.\"\n",
              "              style=\"display:none;\">\n",
              "        \n",
              "  <svg xmlns=\"http://www.w3.org/2000/svg\" height=\"24px\"viewBox=\"0 0 24 24\"\n",
              "       width=\"24px\">\n",
              "    <path d=\"M0 0h24v24H0V0z\" fill=\"none\"/>\n",
              "    <path d=\"M18.56 5.44l.94 2.06.94-2.06 2.06-.94-2.06-.94-.94-2.06-.94 2.06-2.06.94zm-11 1L8.5 8.5l.94-2.06 2.06-.94-2.06-.94L8.5 2.5l-.94 2.06-2.06.94zm10 10l.94 2.06.94-2.06 2.06-.94-2.06-.94-.94-2.06-.94 2.06-2.06.94z\"/><path d=\"M17.41 7.96l-1.37-1.37c-.4-.4-.92-.59-1.43-.59-.52 0-1.04.2-1.43.59L10.3 9.45l-7.72 7.72c-.78.78-.78 2.05 0 2.83L4 21.41c.39.39.9.59 1.41.59.51 0 1.02-.2 1.41-.59l7.78-7.78 2.81-2.81c.8-.78.8-2.07 0-2.86zM5.41 20L4 18.59l7.72-7.72 1.47 1.35L5.41 20z\"/>\n",
              "  </svg>\n",
              "      </button>\n",
              "      \n",
              "  <style>\n",
              "    .colab-df-container {\n",
              "      display:flex;\n",
              "      flex-wrap:wrap;\n",
              "      gap: 12px;\n",
              "    }\n",
              "\n",
              "    .colab-df-convert {\n",
              "      background-color: #E8F0FE;\n",
              "      border: none;\n",
              "      border-radius: 50%;\n",
              "      cursor: pointer;\n",
              "      display: none;\n",
              "      fill: #1967D2;\n",
              "      height: 32px;\n",
              "      padding: 0 0 0 0;\n",
              "      width: 32px;\n",
              "    }\n",
              "\n",
              "    .colab-df-convert:hover {\n",
              "      background-color: #E2EBFA;\n",
              "      box-shadow: 0px 1px 2px rgba(60, 64, 67, 0.3), 0px 1px 3px 1px rgba(60, 64, 67, 0.15);\n",
              "      fill: #174EA6;\n",
              "    }\n",
              "\n",
              "    [theme=dark] .colab-df-convert {\n",
              "      background-color: #3B4455;\n",
              "      fill: #D2E3FC;\n",
              "    }\n",
              "\n",
              "    [theme=dark] .colab-df-convert:hover {\n",
              "      background-color: #434B5C;\n",
              "      box-shadow: 0px 1px 3px 1px rgba(0, 0, 0, 0.15);\n",
              "      filter: drop-shadow(0px 1px 2px rgba(0, 0, 0, 0.3));\n",
              "      fill: #FFFFFF;\n",
              "    }\n",
              "  </style>\n",
              "\n",
              "      <script>\n",
              "        const buttonEl =\n",
              "          document.querySelector('#df-f557b6d8-8813-4d32-b29e-861de454aab1 button.colab-df-convert');\n",
              "        buttonEl.style.display =\n",
              "          google.colab.kernel.accessAllowed ? 'block' : 'none';\n",
              "\n",
              "        async function convertToInteractive(key) {\n",
              "          const element = document.querySelector('#df-f557b6d8-8813-4d32-b29e-861de454aab1');\n",
              "          const dataTable =\n",
              "            await google.colab.kernel.invokeFunction('convertToInteractive',\n",
              "                                                     [key], {});\n",
              "          if (!dataTable) return;\n",
              "\n",
              "          const docLinkHtml = 'Like what you see? Visit the ' +\n",
              "            '<a target=\"_blank\" href=https://colab.research.google.com/notebooks/data_table.ipynb>data table notebook</a>'\n",
              "            + ' to learn more about interactive tables.';\n",
              "          element.innerHTML = '';\n",
              "          dataTable['output_type'] = 'display_data';\n",
              "          await google.colab.output.renderOutput(dataTable, element);\n",
              "          const docLink = document.createElement('div');\n",
              "          docLink.innerHTML = docLinkHtml;\n",
              "          element.appendChild(docLink);\n",
              "        }\n",
              "      </script>\n",
              "    </div>\n",
              "  </div>\n",
              "  "
            ]
          },
          "metadata": {},
          "execution_count": 11
        }
      ]
    },
    {
      "cell_type": "markdown",
      "source": [
        "#### Quality issues with the dataset \n",
        "- Track column contains 100% null values, while Location and cleaned_text columns contained but a lower percentage. \n",
        "- Unnamed column is unnecessary and should be deleted\n",
        "- Loation and Cleaned_text columns have missing values\n",
        "- Some columns (Date) have incorrect data types "
      ],
      "metadata": {
        "id": "4JyyYVanO-vA"
      }
    },
    {
      "cell_type": "markdown",
      "source": [
        "#### Data Cleaning "
      ],
      "metadata": {
        "id": "KzgobQDKO6ln"
      }
    },
    {
      "cell_type": "code",
      "source": [
        "# Dropping the column with 100% null values and irrelevant column. \n",
        "\n",
        "df.drop(columns=[\"Track\",'Unnamed: 0'], inplace= True)"
      ],
      "metadata": {
        "id": "ZVK6bp8yhiSm"
      },
      "execution_count": null,
      "outputs": []
    },
    {
      "cell_type": "code",
      "source": [
        "# changing the datatype of our date column\n",
        "df['Date'] = df['Date'].apply(pd.to_datetime)"
      ],
      "metadata": {
        "id": "fWSoWR-JzyHY"
      },
      "execution_count": null,
      "outputs": []
    },
    {
      "cell_type": "code",
      "source": [
        "# to check \n",
        "\n",
        "#to find the maximum date of the tweet\n",
        "print(df[\"Date\"].max())\n",
        "#to find the minimum date of the tweet\n",
        "print(df[\"Date\"].min())"
      ],
      "metadata": {
        "colab": {
          "base_uri": "https://localhost:8080/"
        },
        "id": "Dtyi7aUSQj7y",
        "outputId": "ef372c8d-a8f4-49de-c23e-d8a842cf1158"
      },
      "execution_count": null,
      "outputs": [
        {
          "output_type": "stream",
          "name": "stdout",
          "text": [
            "2023-04-09 23:13:53+00:00\n",
            "2022-03-31 00:02:54+00:00\n"
          ]
        }
      ]
    },
    {
      "cell_type": "code",
      "source": [
        "# filling nulls in location column using fillna\n",
        "df.Location.fillna('No Location', inplace=True)"
      ],
      "metadata": {
        "id": "bXZuHdB004y5"
      },
      "execution_count": null,
      "outputs": []
    },
    {
      "cell_type": "code",
      "source": [
        "df[\"cleaned_text\"]= df.cleaned_text.apply(str)"
      ],
      "metadata": {
        "id": "ul03B6x29tYX"
      },
      "execution_count": null,
      "outputs": []
    },
    {
      "cell_type": "code",
      "source": [
        "# quick preview of dataset info\n",
        "df.info()"
      ],
      "metadata": {
        "colab": {
          "base_uri": "https://localhost:8080/"
        },
        "id": "4hEGXBttTEbJ",
        "outputId": "166b76ed-3094-419a-db73-b97ec7314817"
      },
      "execution_count": null,
      "outputs": [
        {
          "output_type": "stream",
          "name": "stdout",
          "text": [
            "<class 'pandas.core.frame.DataFrame'>\n",
            "RangeIndex: 90027 entries, 0 to 90026\n",
            "Data columns (total 15 columns):\n",
            " #   Column         Non-Null Count  Dtype              \n",
            "---  ------         --------------  -----              \n",
            " 0   Date           90027 non-null  datetime64[ns, UTC]\n",
            " 1   TweetURL       90027 non-null  object             \n",
            " 2   User           90027 non-null  object             \n",
            " 3   Verified       90027 non-null  bool               \n",
            " 4   Source         90027 non-null  object             \n",
            " 5   Location       90027 non-null  object             \n",
            " 6   Language       90027 non-null  object             \n",
            " 7   Tweet          90027 non-null  object             \n",
            " 8   Likes_Count    90027 non-null  int64              \n",
            " 9   Retweet_Count  90027 non-null  int64              \n",
            " 10  Quote_Count    90027 non-null  int64              \n",
            " 11  Reply_Count    90027 non-null  int64              \n",
            " 12  cleaned_text   90027 non-null  object             \n",
            " 13  Polarity       90027 non-null  float64            \n",
            " 14  Sentiment      90027 non-null  object             \n",
            "dtypes: bool(1), datetime64[ns, UTC](1), float64(1), int64(4), object(8)\n",
            "memory usage: 9.7+ MB\n"
          ]
        }
      ]
    },
    {
      "cell_type": "markdown",
      "source": [
        "#### Data Preprocessing"
      ],
      "metadata": {
        "id": "bceRqZbaR6Ui"
      }
    },
    {
      "cell_type": "code",
      "source": [
        "#Creating a list of all Timeless album tracks \n",
        "'''Tracks =  [\"over dem\", \"feel\", \"in the garden\", \"godfather\", \"unavailable\", \"bop\", \"e pain me\", \"away\", \"precision\", \"kante\", \"na money\", \"juju\", \n",
        "           \"no competition\", \"picasso\", \"for the road\", \"lcnd\", \"champion sound\"]''' \n",
        "\n",
        "Tracks =  [\"overdem\", \"feel\", \"inthegarden\", \"godfather\", \"unavailable\", \"bop\", \"epainme\", \"away\", \"precision\", \"kante\", \"namoney\", \"juju\", \n",
        "           \"nocompetition\", \"picasso\", \"forthe road\", \"lcnd\", \"championsound\"]"
      ],
      "metadata": {
        "id": "k1L7TwZWvTZG"
      },
      "execution_count": null,
      "outputs": []
    },
    {
      "cell_type": "code",
      "source": [
        "# Defining a function to replace track names as one word track name in a new column new_track\n",
        "\n",
        "def trackNames(timeless):\n",
        "    replacements =  [(\"overdem\", \"overdem\"),(\"feel\", \"feel\"), (\"in the garden\", \"inthegarden\"),(\"god father\", \"godfather\"),\n",
        "                     (\"unavailable\", \"unavailable\"), (\"bop\", \"bop\") , (\"e pain me\", \"epainme\"), (\"away\", \"away\"), (\"precision\", \"precision\"), \n",
        "                     (\"kante\", \"kante\"), (\"na money\", \"namoney\"), (\"juju\", \"juju\"), (\"no competition\",\"nocompetition\"), (\"picasso\", \"picasso\"),\n",
        "                     (\"forthe road\", \"forthe road\"), (\"lcnd\", \"lcnd\"), (\"championsound\", \"championsound\")]\n",
        "\n",
        "    for pat, repl in replacements: \n",
        "        timeless = re.sub(pat, repl, timeless)\n",
        "    return timeless\n",
        "\n",
        "df[\"new_track\"] = df['Tweet'].apply(trackNames)\n",
        "df.head(2)"
      ],
      "metadata": {
        "colab": {
          "base_uri": "https://localhost:8080/",
          "height": 297
        },
        "id": "w1TkfLoFvTNv",
        "outputId": "e29a426d-feb0-4904-bea6-a76c1cff0269"
      },
      "execution_count": null,
      "outputs": [
        {
          "output_type": "execute_result",
          "data": {
            "text/plain": [
              "                       Date  \\\n",
              "0 2023-04-09 23:09:29+00:00   \n",
              "1 2023-04-09 22:47:58+00:00   \n",
              "\n",
              "                                            TweetURL             User  \\\n",
              "0  https://twitter.com/TheKingWisdom11/status/164...  TheKingWisdom11   \n",
              "1  https://twitter.com/B0LUWATIFE_DMW/status/1645...   B0LUWATIFE_DMW   \n",
              "\n",
              "   Verified               Source     Location Language  \\\n",
              "0     False   Twitter for iPhone  No Location       en   \n",
              "1     False  Twitter for Android          DMW      qme   \n",
              "\n",
              "                                               Tweet  Likes_Count  \\\n",
              "0  @Naija_PR True love should not be searched, ra...            7   \n",
              "1                               @davido #TIMELESS 😍😌            0   \n",
              "\n",
              "   Retweet_Count  Quote_Count  Reply_Count  \\\n",
              "0              0            0            2   \n",
              "1              0            0            0   \n",
              "\n",
              "                                        cleaned_text  Polarity Sentiment  \\\n",
              "0  pr true love searched rather ask “ true love s...      0.44  Positive   \n",
              "1                                                 😍😌      0.00   Neutral   \n",
              "\n",
              "  Track                                          new_track  \n",
              "0        @Naija_PR True love should not be searched, ra...  \n",
              "1                                     @davido #TIMELESS 😍😌  "
            ],
            "text/html": [
              "\n",
              "  <div id=\"df-a0dc2128-f188-4e96-8781-f24d02b2c343\">\n",
              "    <div class=\"colab-df-container\">\n",
              "      <div>\n",
              "<style scoped>\n",
              "    .dataframe tbody tr th:only-of-type {\n",
              "        vertical-align: middle;\n",
              "    }\n",
              "\n",
              "    .dataframe tbody tr th {\n",
              "        vertical-align: top;\n",
              "    }\n",
              "\n",
              "    .dataframe thead th {\n",
              "        text-align: right;\n",
              "    }\n",
              "</style>\n",
              "<table border=\"1\" class=\"dataframe\">\n",
              "  <thead>\n",
              "    <tr style=\"text-align: right;\">\n",
              "      <th></th>\n",
              "      <th>Date</th>\n",
              "      <th>TweetURL</th>\n",
              "      <th>User</th>\n",
              "      <th>Verified</th>\n",
              "      <th>Source</th>\n",
              "      <th>Location</th>\n",
              "      <th>Language</th>\n",
              "      <th>Tweet</th>\n",
              "      <th>Likes_Count</th>\n",
              "      <th>Retweet_Count</th>\n",
              "      <th>Quote_Count</th>\n",
              "      <th>Reply_Count</th>\n",
              "      <th>cleaned_text</th>\n",
              "      <th>Polarity</th>\n",
              "      <th>Sentiment</th>\n",
              "      <th>Track</th>\n",
              "      <th>new_track</th>\n",
              "    </tr>\n",
              "  </thead>\n",
              "  <tbody>\n",
              "    <tr>\n",
              "      <th>0</th>\n",
              "      <td>2023-04-09 23:09:29+00:00</td>\n",
              "      <td>https://twitter.com/TheKingWisdom11/status/164...</td>\n",
              "      <td>TheKingWisdom11</td>\n",
              "      <td>False</td>\n",
              "      <td>Twitter for iPhone</td>\n",
              "      <td>No Location</td>\n",
              "      <td>en</td>\n",
              "      <td>@Naija_PR True love should not be searched, ra...</td>\n",
              "      <td>7</td>\n",
              "      <td>0</td>\n",
              "      <td>0</td>\n",
              "      <td>2</td>\n",
              "      <td>pr true love searched rather ask “ true love s...</td>\n",
              "      <td>0.44</td>\n",
              "      <td>Positive</td>\n",
              "      <td></td>\n",
              "      <td>@Naija_PR True love should not be searched, ra...</td>\n",
              "    </tr>\n",
              "    <tr>\n",
              "      <th>1</th>\n",
              "      <td>2023-04-09 22:47:58+00:00</td>\n",
              "      <td>https://twitter.com/B0LUWATIFE_DMW/status/1645...</td>\n",
              "      <td>B0LUWATIFE_DMW</td>\n",
              "      <td>False</td>\n",
              "      <td>Twitter for Android</td>\n",
              "      <td>DMW</td>\n",
              "      <td>qme</td>\n",
              "      <td>@davido #TIMELESS 😍😌</td>\n",
              "      <td>0</td>\n",
              "      <td>0</td>\n",
              "      <td>0</td>\n",
              "      <td>0</td>\n",
              "      <td>😍😌</td>\n",
              "      <td>0.00</td>\n",
              "      <td>Neutral</td>\n",
              "      <td></td>\n",
              "      <td>@davido #TIMELESS 😍😌</td>\n",
              "    </tr>\n",
              "  </tbody>\n",
              "</table>\n",
              "</div>\n",
              "      <button class=\"colab-df-convert\" onclick=\"convertToInteractive('df-a0dc2128-f188-4e96-8781-f24d02b2c343')\"\n",
              "              title=\"Convert this dataframe to an interactive table.\"\n",
              "              style=\"display:none;\">\n",
              "        \n",
              "  <svg xmlns=\"http://www.w3.org/2000/svg\" height=\"24px\"viewBox=\"0 0 24 24\"\n",
              "       width=\"24px\">\n",
              "    <path d=\"M0 0h24v24H0V0z\" fill=\"none\"/>\n",
              "    <path d=\"M18.56 5.44l.94 2.06.94-2.06 2.06-.94-2.06-.94-.94-2.06-.94 2.06-2.06.94zm-11 1L8.5 8.5l.94-2.06 2.06-.94-2.06-.94L8.5 2.5l-.94 2.06-2.06.94zm10 10l.94 2.06.94-2.06 2.06-.94-2.06-.94-.94-2.06-.94 2.06-2.06.94z\"/><path d=\"M17.41 7.96l-1.37-1.37c-.4-.4-.92-.59-1.43-.59-.52 0-1.04.2-1.43.59L10.3 9.45l-7.72 7.72c-.78.78-.78 2.05 0 2.83L4 21.41c.39.39.9.59 1.41.59.51 0 1.02-.2 1.41-.59l7.78-7.78 2.81-2.81c.8-.78.8-2.07 0-2.86zM5.41 20L4 18.59l7.72-7.72 1.47 1.35L5.41 20z\"/>\n",
              "  </svg>\n",
              "      </button>\n",
              "      \n",
              "  <style>\n",
              "    .colab-df-container {\n",
              "      display:flex;\n",
              "      flex-wrap:wrap;\n",
              "      gap: 12px;\n",
              "    }\n",
              "\n",
              "    .colab-df-convert {\n",
              "      background-color: #E8F0FE;\n",
              "      border: none;\n",
              "      border-radius: 50%;\n",
              "      cursor: pointer;\n",
              "      display: none;\n",
              "      fill: #1967D2;\n",
              "      height: 32px;\n",
              "      padding: 0 0 0 0;\n",
              "      width: 32px;\n",
              "    }\n",
              "\n",
              "    .colab-df-convert:hover {\n",
              "      background-color: #E2EBFA;\n",
              "      box-shadow: 0px 1px 2px rgba(60, 64, 67, 0.3), 0px 1px 3px 1px rgba(60, 64, 67, 0.15);\n",
              "      fill: #174EA6;\n",
              "    }\n",
              "\n",
              "    [theme=dark] .colab-df-convert {\n",
              "      background-color: #3B4455;\n",
              "      fill: #D2E3FC;\n",
              "    }\n",
              "\n",
              "    [theme=dark] .colab-df-convert:hover {\n",
              "      background-color: #434B5C;\n",
              "      box-shadow: 0px 1px 3px 1px rgba(0, 0, 0, 0.15);\n",
              "      filter: drop-shadow(0px 1px 2px rgba(0, 0, 0, 0.3));\n",
              "      fill: #FFFFFF;\n",
              "    }\n",
              "  </style>\n",
              "\n",
              "      <script>\n",
              "        const buttonEl =\n",
              "          document.querySelector('#df-a0dc2128-f188-4e96-8781-f24d02b2c343 button.colab-df-convert');\n",
              "        buttonEl.style.display =\n",
              "          google.colab.kernel.accessAllowed ? 'block' : 'none';\n",
              "\n",
              "        async function convertToInteractive(key) {\n",
              "          const element = document.querySelector('#df-a0dc2128-f188-4e96-8781-f24d02b2c343');\n",
              "          const dataTable =\n",
              "            await google.colab.kernel.invokeFunction('convertToInteractive',\n",
              "                                                     [key], {});\n",
              "          if (!dataTable) return;\n",
              "\n",
              "          const docLinkHtml = 'Like what you see? Visit the ' +\n",
              "            '<a target=\"_blank\" href=https://colab.research.google.com/notebooks/data_table.ipynb>data table notebook</a>'\n",
              "            + ' to learn more about interactive tables.';\n",
              "          element.innerHTML = '';\n",
              "          dataTable['output_type'] = 'display_data';\n",
              "          await google.colab.output.renderOutput(dataTable, element);\n",
              "          const docLink = document.createElement('div');\n",
              "          docLink.innerHTML = docLinkHtml;\n",
              "          element.appendChild(docLink);\n",
              "        }\n",
              "      </script>\n",
              "    </div>\n",
              "  </div>\n",
              "  "
            ]
          },
          "metadata": {},
          "execution_count": 21
        }
      ]
    },
    {
      "cell_type": "code",
      "source": [
        "# Define function to extract Timeless Track from each new_track column\n",
        "def gettrackName(tweet_track):\n",
        "    tweet_track = tweet_track.lower() #Reduces tweet to lower case\n",
        "    tweet_tokens = word_tokenize(tweet_track) #splits each word in tweet_track for parsing\n",
        "    track_name = [char for char in tweet_tokens if char in Tracks] \n",
        "    return \" \".join(track_name)"
      ],
      "metadata": {
        "id": "ijyM9PhE3aa3"
      },
      "execution_count": null,
      "outputs": []
    },
    {
      "cell_type": "code",
      "source": [
        "# Extract tracks to a new column \n",
        "df['ttrack'] = df['new_track'].apply(gettrackName)\n",
        "df.head(2)"
      ],
      "metadata": {
        "colab": {
          "base_uri": "https://localhost:8080/",
          "height": 297
        },
        "id": "mGRceaLh3aXl",
        "outputId": "ae57251f-f2ac-4f1d-d97a-d1d2a021a78c"
      },
      "execution_count": null,
      "outputs": [
        {
          "output_type": "execute_result",
          "data": {
            "text/plain": [
              "                       Date  \\\n",
              "0 2023-04-09 23:09:29+00:00   \n",
              "1 2023-04-09 22:47:58+00:00   \n",
              "\n",
              "                                            TweetURL             User  \\\n",
              "0  https://twitter.com/TheKingWisdom11/status/164...  TheKingWisdom11   \n",
              "1  https://twitter.com/B0LUWATIFE_DMW/status/1645...   B0LUWATIFE_DMW   \n",
              "\n",
              "   Verified               Source     Location Language  \\\n",
              "0     False   Twitter for iPhone  No Location       en   \n",
              "1     False  Twitter for Android          DMW      qme   \n",
              "\n",
              "                                               Tweet  Likes_Count  \\\n",
              "0  @Naija_PR True love should not be searched, ra...            7   \n",
              "1                               @davido #TIMELESS 😍😌            0   \n",
              "\n",
              "   Retweet_Count  Quote_Count  Reply_Count  \\\n",
              "0              0            0            2   \n",
              "1              0            0            0   \n",
              "\n",
              "                                        cleaned_text  Polarity Sentiment  \\\n",
              "0  pr true love searched rather ask “ true love s...      0.44  Positive   \n",
              "1                                                 😍😌      0.00   Neutral   \n",
              "\n",
              "  Track                                          new_track         ttrack  \n",
              "0        @Naija_PR True love should not be searched, ra...  nocompetition  \n",
              "1                                     @davido #TIMELESS 😍😌                 "
            ],
            "text/html": [
              "\n",
              "  <div id=\"df-aca7808f-84bf-4841-ac3e-8632b940b005\">\n",
              "    <div class=\"colab-df-container\">\n",
              "      <div>\n",
              "<style scoped>\n",
              "    .dataframe tbody tr th:only-of-type {\n",
              "        vertical-align: middle;\n",
              "    }\n",
              "\n",
              "    .dataframe tbody tr th {\n",
              "        vertical-align: top;\n",
              "    }\n",
              "\n",
              "    .dataframe thead th {\n",
              "        text-align: right;\n",
              "    }\n",
              "</style>\n",
              "<table border=\"1\" class=\"dataframe\">\n",
              "  <thead>\n",
              "    <tr style=\"text-align: right;\">\n",
              "      <th></th>\n",
              "      <th>Date</th>\n",
              "      <th>TweetURL</th>\n",
              "      <th>User</th>\n",
              "      <th>Verified</th>\n",
              "      <th>Source</th>\n",
              "      <th>Location</th>\n",
              "      <th>Language</th>\n",
              "      <th>Tweet</th>\n",
              "      <th>Likes_Count</th>\n",
              "      <th>Retweet_Count</th>\n",
              "      <th>Quote_Count</th>\n",
              "      <th>Reply_Count</th>\n",
              "      <th>cleaned_text</th>\n",
              "      <th>Polarity</th>\n",
              "      <th>Sentiment</th>\n",
              "      <th>Track</th>\n",
              "      <th>new_track</th>\n",
              "      <th>ttrack</th>\n",
              "    </tr>\n",
              "  </thead>\n",
              "  <tbody>\n",
              "    <tr>\n",
              "      <th>0</th>\n",
              "      <td>2023-04-09 23:09:29+00:00</td>\n",
              "      <td>https://twitter.com/TheKingWisdom11/status/164...</td>\n",
              "      <td>TheKingWisdom11</td>\n",
              "      <td>False</td>\n",
              "      <td>Twitter for iPhone</td>\n",
              "      <td>No Location</td>\n",
              "      <td>en</td>\n",
              "      <td>@Naija_PR True love should not be searched, ra...</td>\n",
              "      <td>7</td>\n",
              "      <td>0</td>\n",
              "      <td>0</td>\n",
              "      <td>2</td>\n",
              "      <td>pr true love searched rather ask “ true love s...</td>\n",
              "      <td>0.44</td>\n",
              "      <td>Positive</td>\n",
              "      <td></td>\n",
              "      <td>@Naija_PR True love should not be searched, ra...</td>\n",
              "      <td>nocompetition</td>\n",
              "    </tr>\n",
              "    <tr>\n",
              "      <th>1</th>\n",
              "      <td>2023-04-09 22:47:58+00:00</td>\n",
              "      <td>https://twitter.com/B0LUWATIFE_DMW/status/1645...</td>\n",
              "      <td>B0LUWATIFE_DMW</td>\n",
              "      <td>False</td>\n",
              "      <td>Twitter for Android</td>\n",
              "      <td>DMW</td>\n",
              "      <td>qme</td>\n",
              "      <td>@davido #TIMELESS 😍😌</td>\n",
              "      <td>0</td>\n",
              "      <td>0</td>\n",
              "      <td>0</td>\n",
              "      <td>0</td>\n",
              "      <td>😍😌</td>\n",
              "      <td>0.00</td>\n",
              "      <td>Neutral</td>\n",
              "      <td></td>\n",
              "      <td>@davido #TIMELESS 😍😌</td>\n",
              "      <td></td>\n",
              "    </tr>\n",
              "  </tbody>\n",
              "</table>\n",
              "</div>\n",
              "      <button class=\"colab-df-convert\" onclick=\"convertToInteractive('df-aca7808f-84bf-4841-ac3e-8632b940b005')\"\n",
              "              title=\"Convert this dataframe to an interactive table.\"\n",
              "              style=\"display:none;\">\n",
              "        \n",
              "  <svg xmlns=\"http://www.w3.org/2000/svg\" height=\"24px\"viewBox=\"0 0 24 24\"\n",
              "       width=\"24px\">\n",
              "    <path d=\"M0 0h24v24H0V0z\" fill=\"none\"/>\n",
              "    <path d=\"M18.56 5.44l.94 2.06.94-2.06 2.06-.94-2.06-.94-.94-2.06-.94 2.06-2.06.94zm-11 1L8.5 8.5l.94-2.06 2.06-.94-2.06-.94L8.5 2.5l-.94 2.06-2.06.94zm10 10l.94 2.06.94-2.06 2.06-.94-2.06-.94-.94-2.06-.94 2.06-2.06.94z\"/><path d=\"M17.41 7.96l-1.37-1.37c-.4-.4-.92-.59-1.43-.59-.52 0-1.04.2-1.43.59L10.3 9.45l-7.72 7.72c-.78.78-.78 2.05 0 2.83L4 21.41c.39.39.9.59 1.41.59.51 0 1.02-.2 1.41-.59l7.78-7.78 2.81-2.81c.8-.78.8-2.07 0-2.86zM5.41 20L4 18.59l7.72-7.72 1.47 1.35L5.41 20z\"/>\n",
              "  </svg>\n",
              "      </button>\n",
              "      \n",
              "  <style>\n",
              "    .colab-df-container {\n",
              "      display:flex;\n",
              "      flex-wrap:wrap;\n",
              "      gap: 12px;\n",
              "    }\n",
              "\n",
              "    .colab-df-convert {\n",
              "      background-color: #E8F0FE;\n",
              "      border: none;\n",
              "      border-radius: 50%;\n",
              "      cursor: pointer;\n",
              "      display: none;\n",
              "      fill: #1967D2;\n",
              "      height: 32px;\n",
              "      padding: 0 0 0 0;\n",
              "      width: 32px;\n",
              "    }\n",
              "\n",
              "    .colab-df-convert:hover {\n",
              "      background-color: #E2EBFA;\n",
              "      box-shadow: 0px 1px 2px rgba(60, 64, 67, 0.3), 0px 1px 3px 1px rgba(60, 64, 67, 0.15);\n",
              "      fill: #174EA6;\n",
              "    }\n",
              "\n",
              "    [theme=dark] .colab-df-convert {\n",
              "      background-color: #3B4455;\n",
              "      fill: #D2E3FC;\n",
              "    }\n",
              "\n",
              "    [theme=dark] .colab-df-convert:hover {\n",
              "      background-color: #434B5C;\n",
              "      box-shadow: 0px 1px 3px 1px rgba(0, 0, 0, 0.15);\n",
              "      filter: drop-shadow(0px 1px 2px rgba(0, 0, 0, 0.3));\n",
              "      fill: #FFFFFF;\n",
              "    }\n",
              "  </style>\n",
              "\n",
              "      <script>\n",
              "        const buttonEl =\n",
              "          document.querySelector('#df-aca7808f-84bf-4841-ac3e-8632b940b005 button.colab-df-convert');\n",
              "        buttonEl.style.display =\n",
              "          google.colab.kernel.accessAllowed ? 'block' : 'none';\n",
              "\n",
              "        async function convertToInteractive(key) {\n",
              "          const element = document.querySelector('#df-aca7808f-84bf-4841-ac3e-8632b940b005');\n",
              "          const dataTable =\n",
              "            await google.colab.kernel.invokeFunction('convertToInteractive',\n",
              "                                                     [key], {});\n",
              "          if (!dataTable) return;\n",
              "\n",
              "          const docLinkHtml = 'Like what you see? Visit the ' +\n",
              "            '<a target=\"_blank\" href=https://colab.research.google.com/notebooks/data_table.ipynb>data table notebook</a>'\n",
              "            + ' to learn more about interactive tables.';\n",
              "          element.innerHTML = '';\n",
              "          dataTable['output_type'] = 'display_data';\n",
              "          await google.colab.output.renderOutput(dataTable, element);\n",
              "          const docLink = document.createElement('div');\n",
              "          docLink.innerHTML = docLinkHtml;\n",
              "          element.appendChild(docLink);\n",
              "        }\n",
              "      </script>\n",
              "    </div>\n",
              "  </div>\n",
              "  "
            ]
          },
          "metadata": {},
          "execution_count": 23
        }
      ]
    },
    {
      "cell_type": "code",
      "source": [
        "# Store track in a list\n",
        "track_list = df['ttrack'].tolist()\n",
        "\n",
        "# Iterating over all track names and split where there is more than one track instance\n",
        "track = []\n",
        "for item in track_list:\n",
        "    item = item.split()\n",
        "    for i in item:\n",
        "        track.append(i)"
      ],
      "metadata": {
        "id": "43EGpTZJ3aU3"
      },
      "execution_count": null,
      "outputs": []
    },
    {
      "cell_type": "code",
      "source": [
        "# Getting unique count of all tracks\n",
        "counts = Counter(track)\n",
        "track_df = pd.DataFrame.from_dict(counts, orient='index').reset_index()\n",
        "track_df.columns = ['Track', 'Count']\n",
        "track_df.sort_values(by='Count', ascending=False, inplace=True)\n",
        "print(\"The Total Number of Unique Tracks is: \", track_df.shape[0])\n",
        "track_df"
      ],
      "metadata": {
        "colab": {
          "base_uri": "https://localhost:8080/",
          "height": 568
        },
        "id": "MQPWbH4Y3aR2",
        "outputId": "1970c509-9654-437a-94ec-141b98e0bd70"
      },
      "execution_count": null,
      "outputs": [
        {
          "output_type": "stream",
          "name": "stdout",
          "text": [
            "The Total Number of Unique Tracks is:  16\n"
          ]
        },
        {
          "output_type": "execute_result",
          "data": {
            "text/plain": [
              "            Track  Count\n",
              "1           kante   2425\n",
              "6            feel   1689\n",
              "2            away   1458\n",
              "3     unavailable   1448\n",
              "8       godfather    937\n",
              "5         picasso    686\n",
              "7            lcnd    658\n",
              "9       precision    483\n",
              "10            bop    365\n",
              "14           juju    344\n",
              "0   nocompetition    315\n",
              "4         overdem    254\n",
              "11        namoney    166\n",
              "13        epainme    155\n",
              "12    inthegarden    121\n",
              "15  championsound     10"
            ],
            "text/html": [
              "\n",
              "  <div id=\"df-c6f286e0-1db7-44f8-b586-ce80e05a1c82\">\n",
              "    <div class=\"colab-df-container\">\n",
              "      <div>\n",
              "<style scoped>\n",
              "    .dataframe tbody tr th:only-of-type {\n",
              "        vertical-align: middle;\n",
              "    }\n",
              "\n",
              "    .dataframe tbody tr th {\n",
              "        vertical-align: top;\n",
              "    }\n",
              "\n",
              "    .dataframe thead th {\n",
              "        text-align: right;\n",
              "    }\n",
              "</style>\n",
              "<table border=\"1\" class=\"dataframe\">\n",
              "  <thead>\n",
              "    <tr style=\"text-align: right;\">\n",
              "      <th></th>\n",
              "      <th>Track</th>\n",
              "      <th>Count</th>\n",
              "    </tr>\n",
              "  </thead>\n",
              "  <tbody>\n",
              "    <tr>\n",
              "      <th>1</th>\n",
              "      <td>kante</td>\n",
              "      <td>2425</td>\n",
              "    </tr>\n",
              "    <tr>\n",
              "      <th>6</th>\n",
              "      <td>feel</td>\n",
              "      <td>1689</td>\n",
              "    </tr>\n",
              "    <tr>\n",
              "      <th>2</th>\n",
              "      <td>away</td>\n",
              "      <td>1458</td>\n",
              "    </tr>\n",
              "    <tr>\n",
              "      <th>3</th>\n",
              "      <td>unavailable</td>\n",
              "      <td>1448</td>\n",
              "    </tr>\n",
              "    <tr>\n",
              "      <th>8</th>\n",
              "      <td>godfather</td>\n",
              "      <td>937</td>\n",
              "    </tr>\n",
              "    <tr>\n",
              "      <th>5</th>\n",
              "      <td>picasso</td>\n",
              "      <td>686</td>\n",
              "    </tr>\n",
              "    <tr>\n",
              "      <th>7</th>\n",
              "      <td>lcnd</td>\n",
              "      <td>658</td>\n",
              "    </tr>\n",
              "    <tr>\n",
              "      <th>9</th>\n",
              "      <td>precision</td>\n",
              "      <td>483</td>\n",
              "    </tr>\n",
              "    <tr>\n",
              "      <th>10</th>\n",
              "      <td>bop</td>\n",
              "      <td>365</td>\n",
              "    </tr>\n",
              "    <tr>\n",
              "      <th>14</th>\n",
              "      <td>juju</td>\n",
              "      <td>344</td>\n",
              "    </tr>\n",
              "    <tr>\n",
              "      <th>0</th>\n",
              "      <td>nocompetition</td>\n",
              "      <td>315</td>\n",
              "    </tr>\n",
              "    <tr>\n",
              "      <th>4</th>\n",
              "      <td>overdem</td>\n",
              "      <td>254</td>\n",
              "    </tr>\n",
              "    <tr>\n",
              "      <th>11</th>\n",
              "      <td>namoney</td>\n",
              "      <td>166</td>\n",
              "    </tr>\n",
              "    <tr>\n",
              "      <th>13</th>\n",
              "      <td>epainme</td>\n",
              "      <td>155</td>\n",
              "    </tr>\n",
              "    <tr>\n",
              "      <th>12</th>\n",
              "      <td>inthegarden</td>\n",
              "      <td>121</td>\n",
              "    </tr>\n",
              "    <tr>\n",
              "      <th>15</th>\n",
              "      <td>championsound</td>\n",
              "      <td>10</td>\n",
              "    </tr>\n",
              "  </tbody>\n",
              "</table>\n",
              "</div>\n",
              "      <button class=\"colab-df-convert\" onclick=\"convertToInteractive('df-c6f286e0-1db7-44f8-b586-ce80e05a1c82')\"\n",
              "              title=\"Convert this dataframe to an interactive table.\"\n",
              "              style=\"display:none;\">\n",
              "        \n",
              "  <svg xmlns=\"http://www.w3.org/2000/svg\" height=\"24px\"viewBox=\"0 0 24 24\"\n",
              "       width=\"24px\">\n",
              "    <path d=\"M0 0h24v24H0V0z\" fill=\"none\"/>\n",
              "    <path d=\"M18.56 5.44l.94 2.06.94-2.06 2.06-.94-2.06-.94-.94-2.06-.94 2.06-2.06.94zm-11 1L8.5 8.5l.94-2.06 2.06-.94-2.06-.94L8.5 2.5l-.94 2.06-2.06.94zm10 10l.94 2.06.94-2.06 2.06-.94-2.06-.94-.94-2.06-.94 2.06-2.06.94z\"/><path d=\"M17.41 7.96l-1.37-1.37c-.4-.4-.92-.59-1.43-.59-.52 0-1.04.2-1.43.59L10.3 9.45l-7.72 7.72c-.78.78-.78 2.05 0 2.83L4 21.41c.39.39.9.59 1.41.59.51 0 1.02-.2 1.41-.59l7.78-7.78 2.81-2.81c.8-.78.8-2.07 0-2.86zM5.41 20L4 18.59l7.72-7.72 1.47 1.35L5.41 20z\"/>\n",
              "  </svg>\n",
              "      </button>\n",
              "      \n",
              "  <style>\n",
              "    .colab-df-container {\n",
              "      display:flex;\n",
              "      flex-wrap:wrap;\n",
              "      gap: 12px;\n",
              "    }\n",
              "\n",
              "    .colab-df-convert {\n",
              "      background-color: #E8F0FE;\n",
              "      border: none;\n",
              "      border-radius: 50%;\n",
              "      cursor: pointer;\n",
              "      display: none;\n",
              "      fill: #1967D2;\n",
              "      height: 32px;\n",
              "      padding: 0 0 0 0;\n",
              "      width: 32px;\n",
              "    }\n",
              "\n",
              "    .colab-df-convert:hover {\n",
              "      background-color: #E2EBFA;\n",
              "      box-shadow: 0px 1px 2px rgba(60, 64, 67, 0.3), 0px 1px 3px 1px rgba(60, 64, 67, 0.15);\n",
              "      fill: #174EA6;\n",
              "    }\n",
              "\n",
              "    [theme=dark] .colab-df-convert {\n",
              "      background-color: #3B4455;\n",
              "      fill: #D2E3FC;\n",
              "    }\n",
              "\n",
              "    [theme=dark] .colab-df-convert:hover {\n",
              "      background-color: #434B5C;\n",
              "      box-shadow: 0px 1px 3px 1px rgba(0, 0, 0, 0.15);\n",
              "      filter: drop-shadow(0px 1px 2px rgba(0, 0, 0, 0.3));\n",
              "      fill: #FFFFFF;\n",
              "    }\n",
              "  </style>\n",
              "\n",
              "      <script>\n",
              "        const buttonEl =\n",
              "          document.querySelector('#df-c6f286e0-1db7-44f8-b586-ce80e05a1c82 button.colab-df-convert');\n",
              "        buttonEl.style.display =\n",
              "          google.colab.kernel.accessAllowed ? 'block' : 'none';\n",
              "\n",
              "        async function convertToInteractive(key) {\n",
              "          const element = document.querySelector('#df-c6f286e0-1db7-44f8-b586-ce80e05a1c82');\n",
              "          const dataTable =\n",
              "            await google.colab.kernel.invokeFunction('convertToInteractive',\n",
              "                                                     [key], {});\n",
              "          if (!dataTable) return;\n",
              "\n",
              "          const docLinkHtml = 'Like what you see? Visit the ' +\n",
              "            '<a target=\"_blank\" href=https://colab.research.google.com/notebooks/data_table.ipynb>data table notebook</a>'\n",
              "            + ' to learn more about interactive tables.';\n",
              "          element.innerHTML = '';\n",
              "          dataTable['output_type'] = 'display_data';\n",
              "          await google.colab.output.renderOutput(dataTable, element);\n",
              "          const docLink = document.createElement('div');\n",
              "          docLink.innerHTML = docLinkHtml;\n",
              "          element.appendChild(docLink);\n",
              "        }\n",
              "      </script>\n",
              "    </div>\n",
              "  </div>\n",
              "  "
            ]
          },
          "metadata": {},
          "execution_count": 26
        }
      ]
    },
    {
      "cell_type": "code",
      "source": [
        "# Saving the Track dataframe to csv file\n",
        "track_df.to_csv('Timeless_Track.csv')"
      ],
      "metadata": {
        "id": "nOAgTMCJ6Rzu"
      },
      "execution_count": null,
      "outputs": []
    },
    {
      "cell_type": "code",
      "source": [
        "# Defining a function to extract hashtags with REGEX(Regular Expressions)\n",
        "\n",
        "def getHashtags(tweet):\n",
        "    tweet = tweet.lower()  #converts tweet to lower case\n",
        "    tweet = re.findall(r'\\#\\w+',tweet)  \n",
        "    return \" \".join(tweet)"
      ],
      "metadata": {
        "id": "BEsQPFTax2IP"
      },
      "execution_count": null,
      "outputs": []
    },
    {
      "cell_type": "code",
      "source": [
        "# Getting Hashtags and storing in column 'hashtags'\n",
        "df['hashtags'] = df['Tweet'].apply(getHashtags)\n",
        "df.head(2)"
      ],
      "metadata": {
        "colab": {
          "base_uri": "https://localhost:8080/",
          "height": 297
        },
        "id": "smxR2MsQ10Pa",
        "outputId": "fefe3acd-a7ac-40f0-f05d-5ddb76a17357"
      },
      "execution_count": null,
      "outputs": [
        {
          "output_type": "execute_result",
          "data": {
            "text/plain": [
              "                       Date  \\\n",
              "0 2023-04-09 23:09:29+00:00   \n",
              "1 2023-04-09 22:47:58+00:00   \n",
              "\n",
              "                                            TweetURL             User  \\\n",
              "0  https://twitter.com/TheKingWisdom11/status/164...  TheKingWisdom11   \n",
              "1  https://twitter.com/B0LUWATIFE_DMW/status/1645...   B0LUWATIFE_DMW   \n",
              "\n",
              "   Verified               Source     Location Language  \\\n",
              "0     False   Twitter for iPhone  No Location       en   \n",
              "1     False  Twitter for Android          DMW      qme   \n",
              "\n",
              "                                               Tweet  Likes_Count  \\\n",
              "0  @Naija_PR True love should not be searched, ra...            7   \n",
              "1                               @davido #TIMELESS 😍😌            0   \n",
              "\n",
              "   Retweet_Count  Quote_Count  Reply_Count  \\\n",
              "0              0            0            2   \n",
              "1              0            0            0   \n",
              "\n",
              "                                        cleaned_text  Polarity Sentiment  \\\n",
              "0  pr true love searched rather ask “ true love s...      0.44  Positive   \n",
              "1                                                 😍😌      0.00   Neutral   \n",
              "\n",
              "  Track                                          new_track         ttrack  \\\n",
              "0        @Naija_PR True love should not be searched, ra...  nocompetition   \n",
              "1                                     @davido #TIMELESS 😍😌                  \n",
              "\n",
              "                                            hashtags  \n",
              "0  #mannyandmaria #davido #timeless #dmw #obo #30...  \n",
              "1                                          #timeless  "
            ],
            "text/html": [
              "\n",
              "  <div id=\"df-2aeae927-c2a1-44aa-906a-10edf5a1aff8\">\n",
              "    <div class=\"colab-df-container\">\n",
              "      <div>\n",
              "<style scoped>\n",
              "    .dataframe tbody tr th:only-of-type {\n",
              "        vertical-align: middle;\n",
              "    }\n",
              "\n",
              "    .dataframe tbody tr th {\n",
              "        vertical-align: top;\n",
              "    }\n",
              "\n",
              "    .dataframe thead th {\n",
              "        text-align: right;\n",
              "    }\n",
              "</style>\n",
              "<table border=\"1\" class=\"dataframe\">\n",
              "  <thead>\n",
              "    <tr style=\"text-align: right;\">\n",
              "      <th></th>\n",
              "      <th>Date</th>\n",
              "      <th>TweetURL</th>\n",
              "      <th>User</th>\n",
              "      <th>Verified</th>\n",
              "      <th>Source</th>\n",
              "      <th>Location</th>\n",
              "      <th>Language</th>\n",
              "      <th>Tweet</th>\n",
              "      <th>Likes_Count</th>\n",
              "      <th>Retweet_Count</th>\n",
              "      <th>Quote_Count</th>\n",
              "      <th>Reply_Count</th>\n",
              "      <th>cleaned_text</th>\n",
              "      <th>Polarity</th>\n",
              "      <th>Sentiment</th>\n",
              "      <th>Track</th>\n",
              "      <th>new_track</th>\n",
              "      <th>ttrack</th>\n",
              "      <th>hashtags</th>\n",
              "    </tr>\n",
              "  </thead>\n",
              "  <tbody>\n",
              "    <tr>\n",
              "      <th>0</th>\n",
              "      <td>2023-04-09 23:09:29+00:00</td>\n",
              "      <td>https://twitter.com/TheKingWisdom11/status/164...</td>\n",
              "      <td>TheKingWisdom11</td>\n",
              "      <td>False</td>\n",
              "      <td>Twitter for iPhone</td>\n",
              "      <td>No Location</td>\n",
              "      <td>en</td>\n",
              "      <td>@Naija_PR True love should not be searched, ra...</td>\n",
              "      <td>7</td>\n",
              "      <td>0</td>\n",
              "      <td>0</td>\n",
              "      <td>2</td>\n",
              "      <td>pr true love searched rather ask “ true love s...</td>\n",
              "      <td>0.44</td>\n",
              "      <td>Positive</td>\n",
              "      <td></td>\n",
              "      <td>@Naija_PR True love should not be searched, ra...</td>\n",
              "      <td>nocompetition</td>\n",
              "      <td>#mannyandmaria #davido #timeless #dmw #obo #30...</td>\n",
              "    </tr>\n",
              "    <tr>\n",
              "      <th>1</th>\n",
              "      <td>2023-04-09 22:47:58+00:00</td>\n",
              "      <td>https://twitter.com/B0LUWATIFE_DMW/status/1645...</td>\n",
              "      <td>B0LUWATIFE_DMW</td>\n",
              "      <td>False</td>\n",
              "      <td>Twitter for Android</td>\n",
              "      <td>DMW</td>\n",
              "      <td>qme</td>\n",
              "      <td>@davido #TIMELESS 😍😌</td>\n",
              "      <td>0</td>\n",
              "      <td>0</td>\n",
              "      <td>0</td>\n",
              "      <td>0</td>\n",
              "      <td>😍😌</td>\n",
              "      <td>0.00</td>\n",
              "      <td>Neutral</td>\n",
              "      <td></td>\n",
              "      <td>@davido #TIMELESS 😍😌</td>\n",
              "      <td></td>\n",
              "      <td>#timeless</td>\n",
              "    </tr>\n",
              "  </tbody>\n",
              "</table>\n",
              "</div>\n",
              "      <button class=\"colab-df-convert\" onclick=\"convertToInteractive('df-2aeae927-c2a1-44aa-906a-10edf5a1aff8')\"\n",
              "              title=\"Convert this dataframe to an interactive table.\"\n",
              "              style=\"display:none;\">\n",
              "        \n",
              "  <svg xmlns=\"http://www.w3.org/2000/svg\" height=\"24px\"viewBox=\"0 0 24 24\"\n",
              "       width=\"24px\">\n",
              "    <path d=\"M0 0h24v24H0V0z\" fill=\"none\"/>\n",
              "    <path d=\"M18.56 5.44l.94 2.06.94-2.06 2.06-.94-2.06-.94-.94-2.06-.94 2.06-2.06.94zm-11 1L8.5 8.5l.94-2.06 2.06-.94-2.06-.94L8.5 2.5l-.94 2.06-2.06.94zm10 10l.94 2.06.94-2.06 2.06-.94-2.06-.94-.94-2.06-.94 2.06-2.06.94z\"/><path d=\"M17.41 7.96l-1.37-1.37c-.4-.4-.92-.59-1.43-.59-.52 0-1.04.2-1.43.59L10.3 9.45l-7.72 7.72c-.78.78-.78 2.05 0 2.83L4 21.41c.39.39.9.59 1.41.59.51 0 1.02-.2 1.41-.59l7.78-7.78 2.81-2.81c.8-.78.8-2.07 0-2.86zM5.41 20L4 18.59l7.72-7.72 1.47 1.35L5.41 20z\"/>\n",
              "  </svg>\n",
              "      </button>\n",
              "      \n",
              "  <style>\n",
              "    .colab-df-container {\n",
              "      display:flex;\n",
              "      flex-wrap:wrap;\n",
              "      gap: 12px;\n",
              "    }\n",
              "\n",
              "    .colab-df-convert {\n",
              "      background-color: #E8F0FE;\n",
              "      border: none;\n",
              "      border-radius: 50%;\n",
              "      cursor: pointer;\n",
              "      display: none;\n",
              "      fill: #1967D2;\n",
              "      height: 32px;\n",
              "      padding: 0 0 0 0;\n",
              "      width: 32px;\n",
              "    }\n",
              "\n",
              "    .colab-df-convert:hover {\n",
              "      background-color: #E2EBFA;\n",
              "      box-shadow: 0px 1px 2px rgba(60, 64, 67, 0.3), 0px 1px 3px 1px rgba(60, 64, 67, 0.15);\n",
              "      fill: #174EA6;\n",
              "    }\n",
              "\n",
              "    [theme=dark] .colab-df-convert {\n",
              "      background-color: #3B4455;\n",
              "      fill: #D2E3FC;\n",
              "    }\n",
              "\n",
              "    [theme=dark] .colab-df-convert:hover {\n",
              "      background-color: #434B5C;\n",
              "      box-shadow: 0px 1px 3px 1px rgba(0, 0, 0, 0.15);\n",
              "      filter: drop-shadow(0px 1px 2px rgba(0, 0, 0, 0.3));\n",
              "      fill: #FFFFFF;\n",
              "    }\n",
              "  </style>\n",
              "\n",
              "      <script>\n",
              "        const buttonEl =\n",
              "          document.querySelector('#df-2aeae927-c2a1-44aa-906a-10edf5a1aff8 button.colab-df-convert');\n",
              "        buttonEl.style.display =\n",
              "          google.colab.kernel.accessAllowed ? 'block' : 'none';\n",
              "\n",
              "        async function convertToInteractive(key) {\n",
              "          const element = document.querySelector('#df-2aeae927-c2a1-44aa-906a-10edf5a1aff8');\n",
              "          const dataTable =\n",
              "            await google.colab.kernel.invokeFunction('convertToInteractive',\n",
              "                                                     [key], {});\n",
              "          if (!dataTable) return;\n",
              "\n",
              "          const docLinkHtml = 'Like what you see? Visit the ' +\n",
              "            '<a target=\"_blank\" href=https://colab.research.google.com/notebooks/data_table.ipynb>data table notebook</a>'\n",
              "            + ' to learn more about interactive tables.';\n",
              "          element.innerHTML = '';\n",
              "          dataTable['output_type'] = 'display_data';\n",
              "          await google.colab.output.renderOutput(dataTable, element);\n",
              "          const docLink = document.createElement('div');\n",
              "          docLink.innerHTML = docLinkHtml;\n",
              "          element.appendChild(docLink);\n",
              "        }\n",
              "      </script>\n",
              "    </div>\n",
              "  </div>\n",
              "  "
            ]
          },
          "metadata": {},
          "execution_count": 29
        }
      ]
    },
    {
      "cell_type": "code",
      "source": [
        "# Store hashtags in a list\n",
        "hashtags_list = df['hashtags'].tolist()\n",
        "\n",
        "# Iterate over all hashtags and split where there is more than one hashtag per row of data\n",
        "hashtags = []\n",
        "for item in hashtags_list:\n",
        "    item = item.split()\n",
        "    for i in item:\n",
        "        hashtags.append(i)"
      ],
      "metadata": {
        "id": "FAOnx9uN16dH"
      },
      "execution_count": null,
      "outputs": []
    },
    {
      "cell_type": "code",
      "source": [
        "# Importing Collection module to determine unique count of all hashtags used\n",
        "from collections import Counter\n",
        "\n",
        "# Determine Unique count of all hashtags used\n",
        "counts = Counter(hashtags)\n",
        "hashtags_df = pd.DataFrame.from_dict(counts, orient='index').reset_index()\n",
        "hashtags_df.columns = ['hashtags', 'count']\n",
        "hashtags_df.sort_values(by='count', ascending=False, inplace=True)\n",
        "print(\"The Total Number of Unique Hashtags is: \", hashtags_df.shape[0])"
      ],
      "metadata": {
        "colab": {
          "base_uri": "https://localhost:8080/"
        },
        "id": "HLc69We41-vQ",
        "outputId": "e5ca8653-c680-4db5-f07d-a35d04b749cd"
      },
      "execution_count": null,
      "outputs": [
        {
          "output_type": "stream",
          "name": "stdout",
          "text": [
            "The Total Number of Unique Hashtags is:  29523\n"
          ]
        }
      ]
    },
    {
      "cell_type": "code",
      "source": [
        "# Checking the hashtag dataframe for the top 10 hashtags used\n",
        "hashtags_df.head(10)"
      ],
      "metadata": {
        "colab": {
          "base_uri": "https://localhost:8080/",
          "height": 363
        },
        "id": "YtULNYmW1-pE",
        "outputId": "9999086a-baff-43a3-a332-0c2f36283cfb"
      },
      "execution_count": null,
      "outputs": [
        {
          "output_type": "execute_result",
          "data": {
            "text/plain": [
              "             hashtags  count\n",
              "2           #timeless  53363\n",
              "25     #timelessalbum  43837\n",
              "1             #davido   6448\n",
              "412     #savetimeless   2717\n",
              "13984      #treeverse   1644\n",
              "5               #30bg   1453\n",
              "1966   #aprilfoolsday   1056\n",
              "1925     #donaldtrump   1017\n",
              "780          #classic    769\n",
              "218     #davidoisback    729"
            ],
            "text/html": [
              "\n",
              "  <div id=\"df-8bb30b98-a050-46ed-a2a6-6f5901a4baca\">\n",
              "    <div class=\"colab-df-container\">\n",
              "      <div>\n",
              "<style scoped>\n",
              "    .dataframe tbody tr th:only-of-type {\n",
              "        vertical-align: middle;\n",
              "    }\n",
              "\n",
              "    .dataframe tbody tr th {\n",
              "        vertical-align: top;\n",
              "    }\n",
              "\n",
              "    .dataframe thead th {\n",
              "        text-align: right;\n",
              "    }\n",
              "</style>\n",
              "<table border=\"1\" class=\"dataframe\">\n",
              "  <thead>\n",
              "    <tr style=\"text-align: right;\">\n",
              "      <th></th>\n",
              "      <th>hashtags</th>\n",
              "      <th>count</th>\n",
              "    </tr>\n",
              "  </thead>\n",
              "  <tbody>\n",
              "    <tr>\n",
              "      <th>2</th>\n",
              "      <td>#timeless</td>\n",
              "      <td>53363</td>\n",
              "    </tr>\n",
              "    <tr>\n",
              "      <th>25</th>\n",
              "      <td>#timelessalbum</td>\n",
              "      <td>43837</td>\n",
              "    </tr>\n",
              "    <tr>\n",
              "      <th>1</th>\n",
              "      <td>#davido</td>\n",
              "      <td>6448</td>\n",
              "    </tr>\n",
              "    <tr>\n",
              "      <th>412</th>\n",
              "      <td>#savetimeless</td>\n",
              "      <td>2717</td>\n",
              "    </tr>\n",
              "    <tr>\n",
              "      <th>13984</th>\n",
              "      <td>#treeverse</td>\n",
              "      <td>1644</td>\n",
              "    </tr>\n",
              "    <tr>\n",
              "      <th>5</th>\n",
              "      <td>#30bg</td>\n",
              "      <td>1453</td>\n",
              "    </tr>\n",
              "    <tr>\n",
              "      <th>1966</th>\n",
              "      <td>#aprilfoolsday</td>\n",
              "      <td>1056</td>\n",
              "    </tr>\n",
              "    <tr>\n",
              "      <th>1925</th>\n",
              "      <td>#donaldtrump</td>\n",
              "      <td>1017</td>\n",
              "    </tr>\n",
              "    <tr>\n",
              "      <th>780</th>\n",
              "      <td>#classic</td>\n",
              "      <td>769</td>\n",
              "    </tr>\n",
              "    <tr>\n",
              "      <th>218</th>\n",
              "      <td>#davidoisback</td>\n",
              "      <td>729</td>\n",
              "    </tr>\n",
              "  </tbody>\n",
              "</table>\n",
              "</div>\n",
              "      <button class=\"colab-df-convert\" onclick=\"convertToInteractive('df-8bb30b98-a050-46ed-a2a6-6f5901a4baca')\"\n",
              "              title=\"Convert this dataframe to an interactive table.\"\n",
              "              style=\"display:none;\">\n",
              "        \n",
              "  <svg xmlns=\"http://www.w3.org/2000/svg\" height=\"24px\"viewBox=\"0 0 24 24\"\n",
              "       width=\"24px\">\n",
              "    <path d=\"M0 0h24v24H0V0z\" fill=\"none\"/>\n",
              "    <path d=\"M18.56 5.44l.94 2.06.94-2.06 2.06-.94-2.06-.94-.94-2.06-.94 2.06-2.06.94zm-11 1L8.5 8.5l.94-2.06 2.06-.94-2.06-.94L8.5 2.5l-.94 2.06-2.06.94zm10 10l.94 2.06.94-2.06 2.06-.94-2.06-.94-.94-2.06-.94 2.06-2.06.94z\"/><path d=\"M17.41 7.96l-1.37-1.37c-.4-.4-.92-.59-1.43-.59-.52 0-1.04.2-1.43.59L10.3 9.45l-7.72 7.72c-.78.78-.78 2.05 0 2.83L4 21.41c.39.39.9.59 1.41.59.51 0 1.02-.2 1.41-.59l7.78-7.78 2.81-2.81c.8-.78.8-2.07 0-2.86zM5.41 20L4 18.59l7.72-7.72 1.47 1.35L5.41 20z\"/>\n",
              "  </svg>\n",
              "      </button>\n",
              "      \n",
              "  <style>\n",
              "    .colab-df-container {\n",
              "      display:flex;\n",
              "      flex-wrap:wrap;\n",
              "      gap: 12px;\n",
              "    }\n",
              "\n",
              "    .colab-df-convert {\n",
              "      background-color: #E8F0FE;\n",
              "      border: none;\n",
              "      border-radius: 50%;\n",
              "      cursor: pointer;\n",
              "      display: none;\n",
              "      fill: #1967D2;\n",
              "      height: 32px;\n",
              "      padding: 0 0 0 0;\n",
              "      width: 32px;\n",
              "    }\n",
              "\n",
              "    .colab-df-convert:hover {\n",
              "      background-color: #E2EBFA;\n",
              "      box-shadow: 0px 1px 2px rgba(60, 64, 67, 0.3), 0px 1px 3px 1px rgba(60, 64, 67, 0.15);\n",
              "      fill: #174EA6;\n",
              "    }\n",
              "\n",
              "    [theme=dark] .colab-df-convert {\n",
              "      background-color: #3B4455;\n",
              "      fill: #D2E3FC;\n",
              "    }\n",
              "\n",
              "    [theme=dark] .colab-df-convert:hover {\n",
              "      background-color: #434B5C;\n",
              "      box-shadow: 0px 1px 3px 1px rgba(0, 0, 0, 0.15);\n",
              "      filter: drop-shadow(0px 1px 2px rgba(0, 0, 0, 0.3));\n",
              "      fill: #FFFFFF;\n",
              "    }\n",
              "  </style>\n",
              "\n",
              "      <script>\n",
              "        const buttonEl =\n",
              "          document.querySelector('#df-8bb30b98-a050-46ed-a2a6-6f5901a4baca button.colab-df-convert');\n",
              "        buttonEl.style.display =\n",
              "          google.colab.kernel.accessAllowed ? 'block' : 'none';\n",
              "\n",
              "        async function convertToInteractive(key) {\n",
              "          const element = document.querySelector('#df-8bb30b98-a050-46ed-a2a6-6f5901a4baca');\n",
              "          const dataTable =\n",
              "            await google.colab.kernel.invokeFunction('convertToInteractive',\n",
              "                                                     [key], {});\n",
              "          if (!dataTable) return;\n",
              "\n",
              "          const docLinkHtml = 'Like what you see? Visit the ' +\n",
              "            '<a target=\"_blank\" href=https://colab.research.google.com/notebooks/data_table.ipynb>data table notebook</a>'\n",
              "            + ' to learn more about interactive tables.';\n",
              "          element.innerHTML = '';\n",
              "          dataTable['output_type'] = 'display_data';\n",
              "          await google.colab.output.renderOutput(dataTable, element);\n",
              "          const docLink = document.createElement('div');\n",
              "          docLink.innerHTML = docLinkHtml;\n",
              "          element.appendChild(docLink);\n",
              "        }\n",
              "      </script>\n",
              "    </div>\n",
              "  </div>\n",
              "  "
            ]
          },
          "metadata": {},
          "execution_count": 32
        }
      ]
    },
    {
      "cell_type": "code",
      "source": [
        "# Saving hashtags dataframe to a csv file\n",
        "hashtags_df.to_csv('Timeless_Hashtags.csv')"
      ],
      "metadata": {
        "id": "37-16EYT2T1L"
      },
      "execution_count": null,
      "outputs": []
    },
    {
      "cell_type": "code",
      "source": [
        "#Creating a list of all artists that were featured on Timeless album \n",
        "''' Feats =  ['morravey', 'musa keys', 'musa', 'dexta daps', 'dexta', 'fave','skepta', 'cavemen', 'angelique kidjo', 'kidjo',\n",
        "              'asake', 'logos olori','logos']'''\n",
        "            \n",
        "Feats =  ['morravey', 'musakeys', 'dextadaps', 'fave','skepta', 'cavemen', 'angeliquekidjo', 'asake', 'logosolori']"
      ],
      "metadata": {
        "id": "I-kg1RraG6SA"
      },
      "execution_count": null,
      "outputs": []
    },
    {
      "cell_type": "code",
      "source": [
        "#Getting the most mentioned featured artist of Timeless album\n",
        "\n",
        "def feats(timeless):\n",
        "    replacements =  [('morravey', 'morravey'), ('musa keys', 'musakeys'), ('dexta daps', 'dextadaps'), ('fave', 'fave'), \n",
        "                    ('skepta', 'skepta'), ('cavemen', 'cavemen'), ('angelique kidjo', 'angeliquekidjo'), ('asake', 'asake'), \n",
        "                    ('logos olori', 'logosolori')]\n",
        "\n",
        "    for pat, repl in replacements: \n",
        "        timeless = re.sub(pat, repl, timeless)\n",
        "    return timeless\n",
        "\n",
        "df[\"feat_tweets\"] = df['Tweet'].apply(trackNames)\n",
        "df.head(2)"
      ],
      "metadata": {
        "colab": {
          "base_uri": "https://localhost:8080/",
          "height": 297
        },
        "id": "pxoTJnnxxCXQ",
        "outputId": "d9270dee-95f1-4044-ef4d-765c7e7c4a47"
      },
      "execution_count": null,
      "outputs": [
        {
          "output_type": "execute_result",
          "data": {
            "text/plain": [
              "                       Date  \\\n",
              "0 2023-04-09 23:09:29+00:00   \n",
              "1 2023-04-09 22:47:58+00:00   \n",
              "\n",
              "                                            TweetURL             User  \\\n",
              "0  https://twitter.com/TheKingWisdom11/status/164...  TheKingWisdom11   \n",
              "1  https://twitter.com/B0LUWATIFE_DMW/status/1645...   B0LUWATIFE_DMW   \n",
              "\n",
              "   Verified               Source     Location Language  \\\n",
              "0     False   Twitter for iPhone  No Location       en   \n",
              "1     False  Twitter for Android          DMW      qme   \n",
              "\n",
              "                                               Tweet  Likes_Count  \\\n",
              "0  @Naija_PR True love should not be searched, ra...            7   \n",
              "1                               @davido #TIMELESS 😍😌            0   \n",
              "\n",
              "   Retweet_Count  Quote_Count  Reply_Count  \\\n",
              "0              0            0            2   \n",
              "1              0            0            0   \n",
              "\n",
              "                                        cleaned_text  Polarity Sentiment  \\\n",
              "0  pr true love searched rather ask “ true love s...      0.44  Positive   \n",
              "1                                                 😍😌      0.00   Neutral   \n",
              "\n",
              "  Track                                          new_track         ttrack  \\\n",
              "0        @Naija_PR True love should not be searched, ra...  nocompetition   \n",
              "1                                     @davido #TIMELESS 😍😌                  \n",
              "\n",
              "                                            hashtags  \\\n",
              "0  #mannyandmaria #davido #timeless #dmw #obo #30...   \n",
              "1                                          #timeless   \n",
              "\n",
              "                                         feat_tweets  \n",
              "0  @Naija_PR True love should not be searched, ra...  \n",
              "1                               @davido #TIMELESS 😍😌  "
            ],
            "text/html": [
              "\n",
              "  <div id=\"df-9d555a79-dc79-4a2b-8daf-b192a2a4c17b\">\n",
              "    <div class=\"colab-df-container\">\n",
              "      <div>\n",
              "<style scoped>\n",
              "    .dataframe tbody tr th:only-of-type {\n",
              "        vertical-align: middle;\n",
              "    }\n",
              "\n",
              "    .dataframe tbody tr th {\n",
              "        vertical-align: top;\n",
              "    }\n",
              "\n",
              "    .dataframe thead th {\n",
              "        text-align: right;\n",
              "    }\n",
              "</style>\n",
              "<table border=\"1\" class=\"dataframe\">\n",
              "  <thead>\n",
              "    <tr style=\"text-align: right;\">\n",
              "      <th></th>\n",
              "      <th>Date</th>\n",
              "      <th>TweetURL</th>\n",
              "      <th>User</th>\n",
              "      <th>Verified</th>\n",
              "      <th>Source</th>\n",
              "      <th>Location</th>\n",
              "      <th>Language</th>\n",
              "      <th>Tweet</th>\n",
              "      <th>Likes_Count</th>\n",
              "      <th>Retweet_Count</th>\n",
              "      <th>Quote_Count</th>\n",
              "      <th>Reply_Count</th>\n",
              "      <th>cleaned_text</th>\n",
              "      <th>Polarity</th>\n",
              "      <th>Sentiment</th>\n",
              "      <th>Track</th>\n",
              "      <th>new_track</th>\n",
              "      <th>ttrack</th>\n",
              "      <th>hashtags</th>\n",
              "      <th>feat_tweets</th>\n",
              "    </tr>\n",
              "  </thead>\n",
              "  <tbody>\n",
              "    <tr>\n",
              "      <th>0</th>\n",
              "      <td>2023-04-09 23:09:29+00:00</td>\n",
              "      <td>https://twitter.com/TheKingWisdom11/status/164...</td>\n",
              "      <td>TheKingWisdom11</td>\n",
              "      <td>False</td>\n",
              "      <td>Twitter for iPhone</td>\n",
              "      <td>No Location</td>\n",
              "      <td>en</td>\n",
              "      <td>@Naija_PR True love should not be searched, ra...</td>\n",
              "      <td>7</td>\n",
              "      <td>0</td>\n",
              "      <td>0</td>\n",
              "      <td>2</td>\n",
              "      <td>pr true love searched rather ask “ true love s...</td>\n",
              "      <td>0.44</td>\n",
              "      <td>Positive</td>\n",
              "      <td></td>\n",
              "      <td>@Naija_PR True love should not be searched, ra...</td>\n",
              "      <td>nocompetition</td>\n",
              "      <td>#mannyandmaria #davido #timeless #dmw #obo #30...</td>\n",
              "      <td>@Naija_PR True love should not be searched, ra...</td>\n",
              "    </tr>\n",
              "    <tr>\n",
              "      <th>1</th>\n",
              "      <td>2023-04-09 22:47:58+00:00</td>\n",
              "      <td>https://twitter.com/B0LUWATIFE_DMW/status/1645...</td>\n",
              "      <td>B0LUWATIFE_DMW</td>\n",
              "      <td>False</td>\n",
              "      <td>Twitter for Android</td>\n",
              "      <td>DMW</td>\n",
              "      <td>qme</td>\n",
              "      <td>@davido #TIMELESS 😍😌</td>\n",
              "      <td>0</td>\n",
              "      <td>0</td>\n",
              "      <td>0</td>\n",
              "      <td>0</td>\n",
              "      <td>😍😌</td>\n",
              "      <td>0.00</td>\n",
              "      <td>Neutral</td>\n",
              "      <td></td>\n",
              "      <td>@davido #TIMELESS 😍😌</td>\n",
              "      <td></td>\n",
              "      <td>#timeless</td>\n",
              "      <td>@davido #TIMELESS 😍😌</td>\n",
              "    </tr>\n",
              "  </tbody>\n",
              "</table>\n",
              "</div>\n",
              "      <button class=\"colab-df-convert\" onclick=\"convertToInteractive('df-9d555a79-dc79-4a2b-8daf-b192a2a4c17b')\"\n",
              "              title=\"Convert this dataframe to an interactive table.\"\n",
              "              style=\"display:none;\">\n",
              "        \n",
              "  <svg xmlns=\"http://www.w3.org/2000/svg\" height=\"24px\"viewBox=\"0 0 24 24\"\n",
              "       width=\"24px\">\n",
              "    <path d=\"M0 0h24v24H0V0z\" fill=\"none\"/>\n",
              "    <path d=\"M18.56 5.44l.94 2.06.94-2.06 2.06-.94-2.06-.94-.94-2.06-.94 2.06-2.06.94zm-11 1L8.5 8.5l.94-2.06 2.06-.94-2.06-.94L8.5 2.5l-.94 2.06-2.06.94zm10 10l.94 2.06.94-2.06 2.06-.94-2.06-.94-.94-2.06-.94 2.06-2.06.94z\"/><path d=\"M17.41 7.96l-1.37-1.37c-.4-.4-.92-.59-1.43-.59-.52 0-1.04.2-1.43.59L10.3 9.45l-7.72 7.72c-.78.78-.78 2.05 0 2.83L4 21.41c.39.39.9.59 1.41.59.51 0 1.02-.2 1.41-.59l7.78-7.78 2.81-2.81c.8-.78.8-2.07 0-2.86zM5.41 20L4 18.59l7.72-7.72 1.47 1.35L5.41 20z\"/>\n",
              "  </svg>\n",
              "      </button>\n",
              "      \n",
              "  <style>\n",
              "    .colab-df-container {\n",
              "      display:flex;\n",
              "      flex-wrap:wrap;\n",
              "      gap: 12px;\n",
              "    }\n",
              "\n",
              "    .colab-df-convert {\n",
              "      background-color: #E8F0FE;\n",
              "      border: none;\n",
              "      border-radius: 50%;\n",
              "      cursor: pointer;\n",
              "      display: none;\n",
              "      fill: #1967D2;\n",
              "      height: 32px;\n",
              "      padding: 0 0 0 0;\n",
              "      width: 32px;\n",
              "    }\n",
              "\n",
              "    .colab-df-convert:hover {\n",
              "      background-color: #E2EBFA;\n",
              "      box-shadow: 0px 1px 2px rgba(60, 64, 67, 0.3), 0px 1px 3px 1px rgba(60, 64, 67, 0.15);\n",
              "      fill: #174EA6;\n",
              "    }\n",
              "\n",
              "    [theme=dark] .colab-df-convert {\n",
              "      background-color: #3B4455;\n",
              "      fill: #D2E3FC;\n",
              "    }\n",
              "\n",
              "    [theme=dark] .colab-df-convert:hover {\n",
              "      background-color: #434B5C;\n",
              "      box-shadow: 0px 1px 3px 1px rgba(0, 0, 0, 0.15);\n",
              "      filter: drop-shadow(0px 1px 2px rgba(0, 0, 0, 0.3));\n",
              "      fill: #FFFFFF;\n",
              "    }\n",
              "  </style>\n",
              "\n",
              "      <script>\n",
              "        const buttonEl =\n",
              "          document.querySelector('#df-9d555a79-dc79-4a2b-8daf-b192a2a4c17b button.colab-df-convert');\n",
              "        buttonEl.style.display =\n",
              "          google.colab.kernel.accessAllowed ? 'block' : 'none';\n",
              "\n",
              "        async function convertToInteractive(key) {\n",
              "          const element = document.querySelector('#df-9d555a79-dc79-4a2b-8daf-b192a2a4c17b');\n",
              "          const dataTable =\n",
              "            await google.colab.kernel.invokeFunction('convertToInteractive',\n",
              "                                                     [key], {});\n",
              "          if (!dataTable) return;\n",
              "\n",
              "          const docLinkHtml = 'Like what you see? Visit the ' +\n",
              "            '<a target=\"_blank\" href=https://colab.research.google.com/notebooks/data_table.ipynb>data table notebook</a>'\n",
              "            + ' to learn more about interactive tables.';\n",
              "          element.innerHTML = '';\n",
              "          dataTable['output_type'] = 'display_data';\n",
              "          await google.colab.output.renderOutput(dataTable, element);\n",
              "          const docLink = document.createElement('div');\n",
              "          docLink.innerHTML = docLinkHtml;\n",
              "          element.appendChild(docLink);\n",
              "        }\n",
              "      </script>\n",
              "    </div>\n",
              "  </div>\n",
              "  "
            ]
          },
          "metadata": {},
          "execution_count": 35
        }
      ]
    },
    {
      "cell_type": "code",
      "source": [
        "# Define function to extract featured artists from each feat_tweets\n",
        "def getfeats(feature):\n",
        "    feature = feature.lower() #Reduces tweet to lower case\n",
        "    tweet_tokens = word_tokenize(feature) #splits each word in tweet_track for parsing\n",
        "    feat_name = [char for char in tweet_tokens if char in Feats] \n",
        "    return \" \".join(feat_name)"
      ],
      "metadata": {
        "id": "SJPBaPb3xCQT"
      },
      "execution_count": null,
      "outputs": []
    },
    {
      "cell_type": "code",
      "source": [
        "# Extract featured artists to a new column\n",
        "df['Features'] = df['feat_tweets'].apply(getfeats)\n",
        "df.head(2)"
      ],
      "metadata": {
        "colab": {
          "base_uri": "https://localhost:8080/",
          "height": 327
        },
        "id": "OPlWdT3rxCK0",
        "outputId": "12790885-450b-42c9-d718-dd5f7a697e50"
      },
      "execution_count": null,
      "outputs": [
        {
          "output_type": "execute_result",
          "data": {
            "text/plain": [
              "                       Date  \\\n",
              "0 2023-04-09 23:09:29+00:00   \n",
              "1 2023-04-09 22:47:58+00:00   \n",
              "\n",
              "                                            TweetURL             User  \\\n",
              "0  https://twitter.com/TheKingWisdom11/status/164...  TheKingWisdom11   \n",
              "1  https://twitter.com/B0LUWATIFE_DMW/status/1645...   B0LUWATIFE_DMW   \n",
              "\n",
              "   Verified               Source     Location Language  \\\n",
              "0     False   Twitter for iPhone  No Location       en   \n",
              "1     False  Twitter for Android          DMW      qme   \n",
              "\n",
              "                                               Tweet  Likes_Count  \\\n",
              "0  @Naija_PR True love should not be searched, ra...            7   \n",
              "1                               @davido #TIMELESS 😍😌            0   \n",
              "\n",
              "   Retweet_Count  ...  Reply_Count  \\\n",
              "0              0  ...            2   \n",
              "1              0  ...            0   \n",
              "\n",
              "                                        cleaned_text Polarity  Sentiment  \\\n",
              "0  pr true love searched rather ask “ true love s...     0.44   Positive   \n",
              "1                                                 😍😌     0.00    Neutral   \n",
              "\n",
              "  Track                                          new_track         ttrack  \\\n",
              "0        @Naija_PR True love should not be searched, ra...  nocompetition   \n",
              "1                                     @davido #TIMELESS 😍😌                  \n",
              "\n",
              "                                            hashtags  \\\n",
              "0  #mannyandmaria #davido #timeless #dmw #obo #30...   \n",
              "1                                          #timeless   \n",
              "\n",
              "                                         feat_tweets Features  \n",
              "0  @Naija_PR True love should not be searched, ra...    asake  \n",
              "1                               @davido #TIMELESS 😍😌           \n",
              "\n",
              "[2 rows x 21 columns]"
            ],
            "text/html": [
              "\n",
              "  <div id=\"df-64a34767-e8e5-4c13-9eda-59c63a378c38\">\n",
              "    <div class=\"colab-df-container\">\n",
              "      <div>\n",
              "<style scoped>\n",
              "    .dataframe tbody tr th:only-of-type {\n",
              "        vertical-align: middle;\n",
              "    }\n",
              "\n",
              "    .dataframe tbody tr th {\n",
              "        vertical-align: top;\n",
              "    }\n",
              "\n",
              "    .dataframe thead th {\n",
              "        text-align: right;\n",
              "    }\n",
              "</style>\n",
              "<table border=\"1\" class=\"dataframe\">\n",
              "  <thead>\n",
              "    <tr style=\"text-align: right;\">\n",
              "      <th></th>\n",
              "      <th>Date</th>\n",
              "      <th>TweetURL</th>\n",
              "      <th>User</th>\n",
              "      <th>Verified</th>\n",
              "      <th>Source</th>\n",
              "      <th>Location</th>\n",
              "      <th>Language</th>\n",
              "      <th>Tweet</th>\n",
              "      <th>Likes_Count</th>\n",
              "      <th>Retweet_Count</th>\n",
              "      <th>...</th>\n",
              "      <th>Reply_Count</th>\n",
              "      <th>cleaned_text</th>\n",
              "      <th>Polarity</th>\n",
              "      <th>Sentiment</th>\n",
              "      <th>Track</th>\n",
              "      <th>new_track</th>\n",
              "      <th>ttrack</th>\n",
              "      <th>hashtags</th>\n",
              "      <th>feat_tweets</th>\n",
              "      <th>Features</th>\n",
              "    </tr>\n",
              "  </thead>\n",
              "  <tbody>\n",
              "    <tr>\n",
              "      <th>0</th>\n",
              "      <td>2023-04-09 23:09:29+00:00</td>\n",
              "      <td>https://twitter.com/TheKingWisdom11/status/164...</td>\n",
              "      <td>TheKingWisdom11</td>\n",
              "      <td>False</td>\n",
              "      <td>Twitter for iPhone</td>\n",
              "      <td>No Location</td>\n",
              "      <td>en</td>\n",
              "      <td>@Naija_PR True love should not be searched, ra...</td>\n",
              "      <td>7</td>\n",
              "      <td>0</td>\n",
              "      <td>...</td>\n",
              "      <td>2</td>\n",
              "      <td>pr true love searched rather ask “ true love s...</td>\n",
              "      <td>0.44</td>\n",
              "      <td>Positive</td>\n",
              "      <td></td>\n",
              "      <td>@Naija_PR True love should not be searched, ra...</td>\n",
              "      <td>nocompetition</td>\n",
              "      <td>#mannyandmaria #davido #timeless #dmw #obo #30...</td>\n",
              "      <td>@Naija_PR True love should not be searched, ra...</td>\n",
              "      <td>asake</td>\n",
              "    </tr>\n",
              "    <tr>\n",
              "      <th>1</th>\n",
              "      <td>2023-04-09 22:47:58+00:00</td>\n",
              "      <td>https://twitter.com/B0LUWATIFE_DMW/status/1645...</td>\n",
              "      <td>B0LUWATIFE_DMW</td>\n",
              "      <td>False</td>\n",
              "      <td>Twitter for Android</td>\n",
              "      <td>DMW</td>\n",
              "      <td>qme</td>\n",
              "      <td>@davido #TIMELESS 😍😌</td>\n",
              "      <td>0</td>\n",
              "      <td>0</td>\n",
              "      <td>...</td>\n",
              "      <td>0</td>\n",
              "      <td>😍😌</td>\n",
              "      <td>0.00</td>\n",
              "      <td>Neutral</td>\n",
              "      <td></td>\n",
              "      <td>@davido #TIMELESS 😍😌</td>\n",
              "      <td></td>\n",
              "      <td>#timeless</td>\n",
              "      <td>@davido #TIMELESS 😍😌</td>\n",
              "      <td></td>\n",
              "    </tr>\n",
              "  </tbody>\n",
              "</table>\n",
              "<p>2 rows × 21 columns</p>\n",
              "</div>\n",
              "      <button class=\"colab-df-convert\" onclick=\"convertToInteractive('df-64a34767-e8e5-4c13-9eda-59c63a378c38')\"\n",
              "              title=\"Convert this dataframe to an interactive table.\"\n",
              "              style=\"display:none;\">\n",
              "        \n",
              "  <svg xmlns=\"http://www.w3.org/2000/svg\" height=\"24px\"viewBox=\"0 0 24 24\"\n",
              "       width=\"24px\">\n",
              "    <path d=\"M0 0h24v24H0V0z\" fill=\"none\"/>\n",
              "    <path d=\"M18.56 5.44l.94 2.06.94-2.06 2.06-.94-2.06-.94-.94-2.06-.94 2.06-2.06.94zm-11 1L8.5 8.5l.94-2.06 2.06-.94-2.06-.94L8.5 2.5l-.94 2.06-2.06.94zm10 10l.94 2.06.94-2.06 2.06-.94-2.06-.94-.94-2.06-.94 2.06-2.06.94z\"/><path d=\"M17.41 7.96l-1.37-1.37c-.4-.4-.92-.59-1.43-.59-.52 0-1.04.2-1.43.59L10.3 9.45l-7.72 7.72c-.78.78-.78 2.05 0 2.83L4 21.41c.39.39.9.59 1.41.59.51 0 1.02-.2 1.41-.59l7.78-7.78 2.81-2.81c.8-.78.8-2.07 0-2.86zM5.41 20L4 18.59l7.72-7.72 1.47 1.35L5.41 20z\"/>\n",
              "  </svg>\n",
              "      </button>\n",
              "      \n",
              "  <style>\n",
              "    .colab-df-container {\n",
              "      display:flex;\n",
              "      flex-wrap:wrap;\n",
              "      gap: 12px;\n",
              "    }\n",
              "\n",
              "    .colab-df-convert {\n",
              "      background-color: #E8F0FE;\n",
              "      border: none;\n",
              "      border-radius: 50%;\n",
              "      cursor: pointer;\n",
              "      display: none;\n",
              "      fill: #1967D2;\n",
              "      height: 32px;\n",
              "      padding: 0 0 0 0;\n",
              "      width: 32px;\n",
              "    }\n",
              "\n",
              "    .colab-df-convert:hover {\n",
              "      background-color: #E2EBFA;\n",
              "      box-shadow: 0px 1px 2px rgba(60, 64, 67, 0.3), 0px 1px 3px 1px rgba(60, 64, 67, 0.15);\n",
              "      fill: #174EA6;\n",
              "    }\n",
              "\n",
              "    [theme=dark] .colab-df-convert {\n",
              "      background-color: #3B4455;\n",
              "      fill: #D2E3FC;\n",
              "    }\n",
              "\n",
              "    [theme=dark] .colab-df-convert:hover {\n",
              "      background-color: #434B5C;\n",
              "      box-shadow: 0px 1px 3px 1px rgba(0, 0, 0, 0.15);\n",
              "      filter: drop-shadow(0px 1px 2px rgba(0, 0, 0, 0.3));\n",
              "      fill: #FFFFFF;\n",
              "    }\n",
              "  </style>\n",
              "\n",
              "      <script>\n",
              "        const buttonEl =\n",
              "          document.querySelector('#df-64a34767-e8e5-4c13-9eda-59c63a378c38 button.colab-df-convert');\n",
              "        buttonEl.style.display =\n",
              "          google.colab.kernel.accessAllowed ? 'block' : 'none';\n",
              "\n",
              "        async function convertToInteractive(key) {\n",
              "          const element = document.querySelector('#df-64a34767-e8e5-4c13-9eda-59c63a378c38');\n",
              "          const dataTable =\n",
              "            await google.colab.kernel.invokeFunction('convertToInteractive',\n",
              "                                                     [key], {});\n",
              "          if (!dataTable) return;\n",
              "\n",
              "          const docLinkHtml = 'Like what you see? Visit the ' +\n",
              "            '<a target=\"_blank\" href=https://colab.research.google.com/notebooks/data_table.ipynb>data table notebook</a>'\n",
              "            + ' to learn more about interactive tables.';\n",
              "          element.innerHTML = '';\n",
              "          dataTable['output_type'] = 'display_data';\n",
              "          await google.colab.output.renderOutput(dataTable, element);\n",
              "          const docLink = document.createElement('div');\n",
              "          docLink.innerHTML = docLinkHtml;\n",
              "          element.appendChild(docLink);\n",
              "        }\n",
              "      </script>\n",
              "    </div>\n",
              "  </div>\n",
              "  "
            ]
          },
          "metadata": {},
          "execution_count": 37
        }
      ]
    },
    {
      "cell_type": "code",
      "source": [
        "# Store features in a list\n",
        "feat_list = df['Features'].tolist()\n",
        "\n",
        "# Iterate over all featured artist names and split where there is more than one instance\n",
        "feats = []\n",
        "for item in feat_list:\n",
        "    item = item.split()\n",
        "    for i in item:\n",
        "        feats.append(i)"
      ],
      "metadata": {
        "id": "LZmD-TLvxCF7"
      },
      "execution_count": null,
      "outputs": []
    },
    {
      "cell_type": "code",
      "source": [
        "# Determine unique count of all features\n",
        "counts = Counter(feats)\n",
        "features_df = pd.DataFrame.from_dict(counts, orient='index').reset_index()\n",
        "features_df.columns = ['Artist', 'Count']\n",
        "features_df.sort_values(by='Count', ascending=False, inplace=True)\n",
        "print(\"The Total Number of Unique Features is: \", features_df.shape[0])\n",
        "features_df"
      ],
      "metadata": {
        "colab": {
          "base_uri": "https://localhost:8080/",
          "height": 349
        },
        "id": "YS5kEpmYxCAm",
        "outputId": "65660ebf-c8d6-4339-b3a7-5a3aedebe18e"
      },
      "execution_count": null,
      "outputs": [
        {
          "output_type": "stream",
          "name": "stdout",
          "text": [
            "The Total Number of Unique Features is:  9\n"
          ]
        },
        {
          "output_type": "execute_result",
          "data": {
            "text/plain": [
              "           Artist  Count\n",
              "0           asake   1858\n",
              "1            fave   1789\n",
              "3        morravey    653\n",
              "7         cavemen    545\n",
              "4          skepta    501\n",
              "5  angeliquekidjo    171\n",
              "2      logosolori    155\n",
              "6        musakeys     24\n",
              "8       dextadaps      3"
            ],
            "text/html": [
              "\n",
              "  <div id=\"df-73af482d-15a5-460c-abc8-25e65c7392c6\">\n",
              "    <div class=\"colab-df-container\">\n",
              "      <div>\n",
              "<style scoped>\n",
              "    .dataframe tbody tr th:only-of-type {\n",
              "        vertical-align: middle;\n",
              "    }\n",
              "\n",
              "    .dataframe tbody tr th {\n",
              "        vertical-align: top;\n",
              "    }\n",
              "\n",
              "    .dataframe thead th {\n",
              "        text-align: right;\n",
              "    }\n",
              "</style>\n",
              "<table border=\"1\" class=\"dataframe\">\n",
              "  <thead>\n",
              "    <tr style=\"text-align: right;\">\n",
              "      <th></th>\n",
              "      <th>Artist</th>\n",
              "      <th>Count</th>\n",
              "    </tr>\n",
              "  </thead>\n",
              "  <tbody>\n",
              "    <tr>\n",
              "      <th>0</th>\n",
              "      <td>asake</td>\n",
              "      <td>1858</td>\n",
              "    </tr>\n",
              "    <tr>\n",
              "      <th>1</th>\n",
              "      <td>fave</td>\n",
              "      <td>1789</td>\n",
              "    </tr>\n",
              "    <tr>\n",
              "      <th>3</th>\n",
              "      <td>morravey</td>\n",
              "      <td>653</td>\n",
              "    </tr>\n",
              "    <tr>\n",
              "      <th>7</th>\n",
              "      <td>cavemen</td>\n",
              "      <td>545</td>\n",
              "    </tr>\n",
              "    <tr>\n",
              "      <th>4</th>\n",
              "      <td>skepta</td>\n",
              "      <td>501</td>\n",
              "    </tr>\n",
              "    <tr>\n",
              "      <th>5</th>\n",
              "      <td>angeliquekidjo</td>\n",
              "      <td>171</td>\n",
              "    </tr>\n",
              "    <tr>\n",
              "      <th>2</th>\n",
              "      <td>logosolori</td>\n",
              "      <td>155</td>\n",
              "    </tr>\n",
              "    <tr>\n",
              "      <th>6</th>\n",
              "      <td>musakeys</td>\n",
              "      <td>24</td>\n",
              "    </tr>\n",
              "    <tr>\n",
              "      <th>8</th>\n",
              "      <td>dextadaps</td>\n",
              "      <td>3</td>\n",
              "    </tr>\n",
              "  </tbody>\n",
              "</table>\n",
              "</div>\n",
              "      <button class=\"colab-df-convert\" onclick=\"convertToInteractive('df-73af482d-15a5-460c-abc8-25e65c7392c6')\"\n",
              "              title=\"Convert this dataframe to an interactive table.\"\n",
              "              style=\"display:none;\">\n",
              "        \n",
              "  <svg xmlns=\"http://www.w3.org/2000/svg\" height=\"24px\"viewBox=\"0 0 24 24\"\n",
              "       width=\"24px\">\n",
              "    <path d=\"M0 0h24v24H0V0z\" fill=\"none\"/>\n",
              "    <path d=\"M18.56 5.44l.94 2.06.94-2.06 2.06-.94-2.06-.94-.94-2.06-.94 2.06-2.06.94zm-11 1L8.5 8.5l.94-2.06 2.06-.94-2.06-.94L8.5 2.5l-.94 2.06-2.06.94zm10 10l.94 2.06.94-2.06 2.06-.94-2.06-.94-.94-2.06-.94 2.06-2.06.94z\"/><path d=\"M17.41 7.96l-1.37-1.37c-.4-.4-.92-.59-1.43-.59-.52 0-1.04.2-1.43.59L10.3 9.45l-7.72 7.72c-.78.78-.78 2.05 0 2.83L4 21.41c.39.39.9.59 1.41.59.51 0 1.02-.2 1.41-.59l7.78-7.78 2.81-2.81c.8-.78.8-2.07 0-2.86zM5.41 20L4 18.59l7.72-7.72 1.47 1.35L5.41 20z\"/>\n",
              "  </svg>\n",
              "      </button>\n",
              "      \n",
              "  <style>\n",
              "    .colab-df-container {\n",
              "      display:flex;\n",
              "      flex-wrap:wrap;\n",
              "      gap: 12px;\n",
              "    }\n",
              "\n",
              "    .colab-df-convert {\n",
              "      background-color: #E8F0FE;\n",
              "      border: none;\n",
              "      border-radius: 50%;\n",
              "      cursor: pointer;\n",
              "      display: none;\n",
              "      fill: #1967D2;\n",
              "      height: 32px;\n",
              "      padding: 0 0 0 0;\n",
              "      width: 32px;\n",
              "    }\n",
              "\n",
              "    .colab-df-convert:hover {\n",
              "      background-color: #E2EBFA;\n",
              "      box-shadow: 0px 1px 2px rgba(60, 64, 67, 0.3), 0px 1px 3px 1px rgba(60, 64, 67, 0.15);\n",
              "      fill: #174EA6;\n",
              "    }\n",
              "\n",
              "    [theme=dark] .colab-df-convert {\n",
              "      background-color: #3B4455;\n",
              "      fill: #D2E3FC;\n",
              "    }\n",
              "\n",
              "    [theme=dark] .colab-df-convert:hover {\n",
              "      background-color: #434B5C;\n",
              "      box-shadow: 0px 1px 3px 1px rgba(0, 0, 0, 0.15);\n",
              "      filter: drop-shadow(0px 1px 2px rgba(0, 0, 0, 0.3));\n",
              "      fill: #FFFFFF;\n",
              "    }\n",
              "  </style>\n",
              "\n",
              "      <script>\n",
              "        const buttonEl =\n",
              "          document.querySelector('#df-73af482d-15a5-460c-abc8-25e65c7392c6 button.colab-df-convert');\n",
              "        buttonEl.style.display =\n",
              "          google.colab.kernel.accessAllowed ? 'block' : 'none';\n",
              "\n",
              "        async function convertToInteractive(key) {\n",
              "          const element = document.querySelector('#df-73af482d-15a5-460c-abc8-25e65c7392c6');\n",
              "          const dataTable =\n",
              "            await google.colab.kernel.invokeFunction('convertToInteractive',\n",
              "                                                     [key], {});\n",
              "          if (!dataTable) return;\n",
              "\n",
              "          const docLinkHtml = 'Like what you see? Visit the ' +\n",
              "            '<a target=\"_blank\" href=https://colab.research.google.com/notebooks/data_table.ipynb>data table notebook</a>'\n",
              "            + ' to learn more about interactive tables.';\n",
              "          element.innerHTML = '';\n",
              "          dataTable['output_type'] = 'display_data';\n",
              "          await google.colab.output.renderOutput(dataTable, element);\n",
              "          const docLink = document.createElement('div');\n",
              "          docLink.innerHTML = docLinkHtml;\n",
              "          element.appendChild(docLink);\n",
              "        }\n",
              "      </script>\n",
              "    </div>\n",
              "  </div>\n",
              "  "
            ]
          },
          "metadata": {},
          "execution_count": 41
        }
      ]
    },
    {
      "cell_type": "code",
      "source": [
        "# Saving features' dataframe to a csv file\n",
        "features_df.to_csv('Timeless_Features.csv')"
      ],
      "metadata": {
        "id": "2Y5Kg_BO23SL"
      },
      "execution_count": null,
      "outputs": []
    },
    {
      "cell_type": "code",
      "source": [
        "# getting the most tagged accounts in the tweets\n",
        "mentions = df['Tweet'].str.extractall(r'(\\@\\w*)')[0].str.lower().value_counts()\n",
        "\n",
        "mentions = mentions[mentions.index != '@']\n",
        "mentions = mentions[mentions.index != '@youtube'] # '@youtube' is removed because we need original twitter accounts\n",
        "#to get the top 10 most mentioned accounts\n",
        "mentions = mentions[:10].sort_values(ascending = True)\n",
        "print(mentions)"
      ],
      "metadata": {
        "colab": {
          "base_uri": "https://localhost:8080/"
        },
        "id": "_-lbxz2GOTs6",
        "outputId": "c6142b70-3166-4e9e-d1b7-d3dbd40e51d5"
      },
      "execution_count": null,
      "outputs": [
        {
          "output_type": "stream",
          "name": "stdout",
          "text": [
            "@blaccmajek         401\n",
            "@wizkidayo          404\n",
            "@lotsofspots2       410\n",
            "@dayoamusa          489\n",
            "@davido_global      528\n",
            "@kathyhake          609\n",
            "@dhavidote          672\n",
            "@lifeofolaa         696\n",
            "@jjay00007          832\n",
            "@davido           12319\n",
            "Name: 0, dtype: int64\n"
          ]
        }
      ]
    },
    {
      "cell_type": "code",
      "source": [
        "# to save it to a dataframe\n",
        "mentions.to_csv(\"top_mentions.csv\", index_label=\"mentions\")"
      ],
      "metadata": {
        "id": "m14hM8LOPShp"
      },
      "execution_count": null,
      "outputs": []
    },
    {
      "cell_type": "markdown",
      "source": [
        "##### Data Visualization and Exploratory Analysis"
      ],
      "metadata": {
        "id": "sgwKhiKjNZdI"
      }
    },
    {
      "cell_type": "code",
      "source": [
        "# Plotting a pie chart to show distribution of Sentiments\n",
        "plt.figure(figsize=[7,5], facecolor='none')\n",
        "plt.pie(df['Sentiment'].value_counts(), labels=['Neutral','Postive', \"Negative\"], colors=['#1dc5af', '#666666', '#E6f2ee'], startangle=90, explode= [0,0,0.09], autopct='%1.1f%%');\n",
        "plt.title('Twitter Users Sentiments');"
      ],
      "metadata": {
        "colab": {
          "base_uri": "https://localhost:8080/",
          "height": 444
        },
        "id": "d8qMo96G-Xpy",
        "outputId": "1a0fc76d-8d4e-4f63-c1ca-17a9a016241e"
      },
      "execution_count": null,
      "outputs": [
        {
          "output_type": "display_data",
          "data": {
            "text/plain": [
              "<Figure size 700x500 with 1 Axes>"
            ],
            "image/png": "[encoded data removed]"
          },
          "metadata": {}
        }
      ]
    },
    {
      "cell_type": "code",
      "source": [
        "# Save to dataframe\n",
        "plt.savefig(\"Sentiments.png\", format=\"png\")"
      ],
      "metadata": {
        "colab": {
          "base_uri": "https://localhost:8080/",
          "height": 34
        },
        "id": "VXY022Qw_Q2T",
        "outputId": "603e92dc-de89-4aeb-9e12-7dc0d7954182"
      },
      "execution_count": null,
      "outputs": [
        {
          "output_type": "display_data",
          "data": {
            "text/plain": [
              "<Figure size 640x480 with 0 Axes>"
            ]
          },
          "metadata": {}
        }
      ]
    },
    {
      "cell_type": "code",
      "source": [
        "sorted =track_df.sort_values('Count', ascending=True)"
      ],
      "metadata": {
        "id": "Osmu5Y4FAmC3"
      },
      "execution_count": null,
      "outputs": []
    },
    {
      "cell_type": "code",
      "source": [
        "ax = sorted.plot.barh(x='Track', y='Count', figsize=(7,5), legend=None, width=0.6, color=['#666666','#666666','#666666','#666666','#666666','#666666','#666666','#666666', '#666666','#666666','#666666','#666666','#666666','#666666','#666666', '#1dc5af'])\n",
        "plt.title('Ranking of Tracks');\n",
        "plt.grid(False)\n",
        "plt.ylabel('Tracks')\n",
        "plt.xlabel('Count')\n",
        "ax.set_facecolor('white')\n",
        "\n",
        "plt.rcParams['axes.facecolor'] = 'white'\n",
        "\n",
        "\n",
        "for y, x in enumerate(sorted.Count):\n",
        "    ax.annotate(\"{:,}\".format(x), xy=(x, y))\n",
        "    ax.set_xlim(0, sorted.Count.max()*1.2)\n",
        "\n",
        "plt.show()\n",
        "\n",
        "# Save to dataframe\n",
        "plt.savefig(\"Features.png\", dpi= 200);"
      ],
      "metadata": {
        "colab": {
          "base_uri": "https://localhost:8080/",
          "height": 504
        },
        "id": "fA8U_vGT_qm4",
        "outputId": "e8d8e1e8-0372-4294-e777-d2c7a6c86c00"
      },
      "execution_count": null,
      "outputs": [
        {
          "output_type": "display_data",
          "data": {
            "text/plain": [
              "<Figure size 700x500 with 1 Axes>"
            ],
            "image/png": "[encoded data removed]"
          },
          "metadata": {}
        },
        {
          "output_type": "display_data",
          "data": {
            "text/plain": [
              "<Figure size 640x480 with 0 Axes>"
            ]
          },
          "metadata": {}
        }
      ]
    },
    {
      "cell_type": "code",
      "source": [
        "#visual for most tagged account\n",
        "\n",
        "ax = mentions.plot.barh(x=mentions.index, y='Count', figsize=(7,5), legend=None, width=0.6, color=['#666666', '#666666','#666666','#666666','#666666','#666666','#666666', '#666666','#666666', '#1dc5af'])\n",
        "plt.title('Most Tagged Twitter Handle');\n",
        "plt.grid(False)\n",
        "plt.ylabel('Handles')\n",
        "plt.xlabel('Count')\n",
        "ax.set_facecolor('white')\n",
        "\n",
        "plt.rcParams['axes.facecolor'] = 'white'\n",
        "\n",
        "\n",
        "for y, x in enumerate(mentions):\n",
        "    ax.annotate(\"{:,}\".format(x), xy=(x, y))\n",
        "    ax.set_xlim(0, mentions.max()*1.2)\n",
        "\n",
        "plt.show()"
      ],
      "metadata": {
        "colab": {
          "base_uri": "https://localhost:8080/",
          "height": 487
        },
        "id": "4XjvEcIzOn_P",
        "outputId": "d367326f-5642-4bb5-cb26-729c5f7338a0"
      },
      "execution_count": null,
      "outputs": [
        {
          "output_type": "display_data",
          "data": {
            "text/plain": [
              "<Figure size 700x500 with 1 Axes>"
            ],
            "image/png": "[encoded data removed]"
          },
          "metadata": {}
        }
      ]
    },
    {
      "cell_type": "markdown",
      "source": [
        "#### Creating a Word-Cloud"
      ],
      "metadata": {
        "id": "UimZUXvzM4rG"
      }
    },
    {
      "cell_type": "code",
      "source": [
        "tweets = df['cleaned_text'].tolist()\n",
        "tweets = \" \".join(tweets)\n",
        "\n",
        "\n",
        "#w_cloud = WordCloud(collocations = False,max_words=200, background_color = 'black', width = 7000, height = 5000).generate(tweets)\n",
        "\n",
        "\n",
        "w_cloud = WordCloud(collocations = False,max_words=200, background_color = 'black', width = 7000, height = 5000).generate(tweets)\n",
        "\n",
        "# Display the generated Word Cloud\n",
        "plt.imshow(w_cloud, interpolation='bilinear')\n",
        "plt.axis(\"off\")\n",
        "plt.show()"
      ],
      "metadata": {
        "colab": {
          "base_uri": "https://localhost:8080/",
          "height": 391
        },
        "id": "q9DESc01-8dy",
        "outputId": "d1a79d01-0480-4506-8b2a-522158f41954"
      },
      "execution_count": null,
      "outputs": [
        {
          "output_type": "display_data",
          "data": {
            "text/plain": [
              "<Figure size 640x480 with 1 Axes>"
            ],
            "image/png": "[encoded data removed]"
          },
          "metadata": {}
        }
      ]
    },
    {
      "cell_type": "code",
      "source": [
        "w_cloud.to_file(\"Wordcloud2.png\")"
      ],
      "metadata": {
        "colab": {
          "base_uri": "https://localhost:8080/"
        },
        "id": "kj_oslQGCzfY",
        "outputId": "fed66907-de77-4c3d-d5dd-de4edb48484a"
      },
      "execution_count": null,
      "outputs": [
        {
          "output_type": "execute_result",
          "data": {
            "text/plain": [
              "<wordcloud.wordcloud.WordCloud at 0x7fdf70faf3a0>"
            ]
          },
          "metadata": {},
          "execution_count": 61
        }
      ]
    },
    {
      "cell_type": "code",
      "source": [
        "df.to_csv(\"Timeless_Final.csv\", index=False)"
      ],
      "metadata": {
        "id": "-9peailqEFbq"
      },
      "execution_count": null,
      "outputs": []
    },
    {
      "cell_type": "code",
      "source": [
        "# Get the most-liked post \n",
        "df.groupby('TweetURL').sum()['Likes_Count'].sort_values(ascending = False).head(1)\n"
      ],
      "metadata": {
        "colab": {
          "base_uri": "https://localhost:8080/"
        },
        "id": "y8zpfluyw2HP",
        "outputId": "666922e0-97e1-4c9f-94aa-7f8c6d15346a"
      },
      "execution_count": null,
      "outputs": [
        {
          "output_type": "execute_result",
          "data": {
            "text/plain": [
              "TweetURL\n",
              "https://twitter.com/davido/status/1642498413001416705    70236\n",
              "Name: Likes_Count, dtype: int64"
            ]
          },
          "metadata": {},
          "execution_count": 72
        }
      ]
    },
    {
      "cell_type": "code",
      "source": [
        "# Get the most active tweeters\n",
        "df.groupby('User').count()['Tweet'].sort_values(ascending = False).head(8).plot.barh(x=mentions.index, y='Count', figsize=(7,5), legend=None, width=0.6, color=['#1dc5af','#666666', '#666666','#666666','#666666','#666666','#666666','#666666', '#666666'])\n",
        "\n",
        "plt.title('Most Active Tweeters');\n",
        "plt.grid(False)\n",
        "plt.ylabel('Users')\n",
        "plt.xlabel('Count')"
      ],
      "metadata": {
        "colab": {
          "base_uri": "https://localhost:8080/",
          "height": 504
        },
        "id": "zKAvLbr4L-Uq",
        "outputId": "76038db2-3825-436d-b03c-cbb2012b03d0"
      },
      "execution_count": null,
      "outputs": [
        {
          "output_type": "execute_result",
          "data": {
            "text/plain": [
              "Text(0.5, 0, 'Count')"
            ]
          },
          "metadata": {},
          "execution_count": 84
        },
        {
          "output_type": "display_data",
          "data": {
            "text/plain": [
              "<Figure size 700x500 with 1 Axes>"
            ],
            "image/png": "[encoded data removed]"
          },
          "metadata": {}
        }
      ]
    },
    {
      "cell_type": "markdown",
      "source": [
        "Get to know me better \n",
        "\n",
        "- [LinkedIn](https://linkedin.com.in/preciousnnodi)\n",
        "- [Twitter](https://twitter.com/Presh_shee)"
      ],
      "metadata": {
        "id": "GLzzMnIXgC7d"
      }
    },
    {
      "cell_type": "code",
      "source": [],
      "metadata": {
        "id": "hOeJXNd8ga_2"
      },
      "execution_count": null,
      "outputs": []
    }
  ]
}